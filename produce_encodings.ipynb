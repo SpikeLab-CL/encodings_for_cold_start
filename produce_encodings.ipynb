{
 "cells": [
  {
   "cell_type": "markdown",
   "metadata": {},
   "source": [
    "# Glove or Spacy encodings\n",
    "\n",
    "Takes text inputs of varying lengths and outputs glove encodings of the same length\n",
    "\n",
    "1. Tokenize with Spacy\n",
    "2. Get word embeddings (start with Spacy's, then use Glove if needed)\n",
    "3. Let torch handle uneven text lengths with `pad_sequence`?"
   ]
  },
  {
   "cell_type": "code",
   "execution_count": null,
   "metadata": {},
   "outputs": [],
   "source": [
    "#!/usr/local/anaconda3/envs/spike_basicoV5/bin/python -m spacy download en_core_web_sm\n",
    "#!/usr/local/anaconda3/envs/spike_basicoV5/bin/python -m spacy download en_core_web_lg"
   ]
  },
  {
   "cell_type": "code",
   "execution_count": 1,
   "metadata": {},
   "outputs": [],
   "source": [
    "%load_ext autoreload\n",
    "%autoreload 2"
   ]
  },
  {
   "cell_type": "code",
   "execution_count": 2,
   "metadata": {},
   "outputs": [],
   "source": [
    "import src"
   ]
  },
  {
   "cell_type": "code",
   "execution_count": 3,
   "metadata": {},
   "outputs": [
    {
     "name": "stdout",
     "output_type": "stream",
     "text": [
      "Apple\n",
      "is\n",
      "looking\n",
      "at\n",
      "buying\n",
      "U.K.\n",
      "startup\n",
      "for\n",
      "$\n",
      "1\n",
      "billion\n"
     ]
    }
   ],
   "source": [
    "import spacy\n",
    "import numpy as np\n",
    "nlp = spacy.load('en_core_web_sm', )\n",
    "\n",
    "doc = nlp(\"Apple is looking at buying U.K. startup for $1 billion\")\n",
    "for token in doc:\n",
    "    print(token.text)"
   ]
  },
  {
   "cell_type": "code",
   "execution_count": 4,
   "metadata": {},
   "outputs": [
    {
     "name": "stdout",
     "output_type": "stream",
     "text": [
      "dog True 7.0336733 False\n",
      "cat True 6.6808186 False\n",
      "banana True 6.700014 False\n",
      "afskfsd False 0.0 True\n"
     ]
    }
   ],
   "source": [
    "nlp = spacy.load(\"en_core_web_lg\")\n",
    "tokens = nlp(\"dog cat banana afskfsd\")\n",
    "for token in tokens:\n",
    "    print(token.text, token.has_vector, token.vector_norm, token.is_oov)"
   ]
  },
  {
   "cell_type": "code",
   "execution_count": 5,
   "metadata": {},
   "outputs": [],
   "source": [
    "example_list = [\"hiya, what's up?\",\n",
    "               \"another description of stuff\",\n",
    "               \"and a final one! Yay!\"]\n"
   ]
  },
  {
   "cell_type": "markdown",
   "metadata": {},
   "source": [
    "+ index_item_matrix (items x largo_maximo_glosas)\n",
    "+ embedding_matrix  (npalabras + 1 x nlatentes)"
   ]
  },
  {
   "cell_type": "code",
   "execution_count": 7,
   "metadata": {},
   "outputs": [
    {
     "data": {
      "text/plain": [
       "(3, 7, 300)"
      ]
     },
     "execution_count": 7,
     "metadata": {},
     "output_type": "execute_result"
    }
   ],
   "source": [
    "encodings_of_all_sentences = src.encode_sequence(example_list, nlp, n_of_dims=300)\n",
    "encodings_of_all_sentences.shape"
   ]
  },
  {
   "cell_type": "code",
   "execution_count": 9,
   "metadata": {},
   "outputs": [],
   "source": [
    "index_item_matrix, embedding_matrix, unique_tokens_d = src.get_embedding_and_index_item_matrix(example_list,\n",
    "                                                                                               nlp, n_of_embedding_dims=300)"
   ]
  },
  {
   "cell_type": "markdown",
   "metadata": {},
   "source": [
    "### Pre-process Movie Data"
   ]
  },
  {
   "cell_type": "code",
   "execution_count": 10,
   "metadata": {},
   "outputs": [],
   "source": [
    "\n",
    "project_id = \"spike-sandbox\"\n",
    "\n",
    "query = \"\"\"\n",
    "SELECT movie_id, movie_name, category_0\n",
    "FROM EVIC.movies\n",
    "\"\"\"\n",
    "\n",
    "import pandas as pd\n",
    "\n",
    "movies = pd.read_gbq(query, project_id=project_id)"
   ]
  },
  {
   "cell_type": "code",
   "execution_count": 13,
   "metadata": {},
   "outputs": [],
   "source": [
    "movies['full_string'] = movies['movie_name'] + ' ' + movies.category_0"
   ]
  },
  {
   "cell_type": "code",
   "execution_count": 15,
   "metadata": {},
   "outputs": [
    {
     "data": {
      "text/html": [
       "<div>\n",
       "<style scoped>\n",
       "    .dataframe tbody tr th:only-of-type {\n",
       "        vertical-align: middle;\n",
       "    }\n",
       "\n",
       "    .dataframe tbody tr th {\n",
       "        vertical-align: top;\n",
       "    }\n",
       "\n",
       "    .dataframe thead th {\n",
       "        text-align: right;\n",
       "    }\n",
       "</style>\n",
       "<table border=\"1\" class=\"dataframe\">\n",
       "  <thead>\n",
       "    <tr style=\"text-align: right;\">\n",
       "      <th></th>\n",
       "      <th>movie_id</th>\n",
       "      <th>movie_name</th>\n",
       "      <th>category_0</th>\n",
       "      <th>full_string</th>\n",
       "    </tr>\n",
       "  </thead>\n",
       "  <tbody>\n",
       "    <tr>\n",
       "      <td>0</td>\n",
       "      <td>777</td>\n",
       "      <td>Pharaoh's Army (1995)</td>\n",
       "      <td>War</td>\n",
       "      <td>Pharaoh's Army (1995) War</td>\n",
       "    </tr>\n",
       "    <tr>\n",
       "      <td>1</td>\n",
       "      <td>966</td>\n",
       "      <td>Walk in the Sun, A (1945)</td>\n",
       "      <td>War</td>\n",
       "      <td>Walk in the Sun, A (1945) War</td>\n",
       "    </tr>\n",
       "    <tr>\n",
       "      <td>2</td>\n",
       "      <td>1450</td>\n",
       "      <td>Prisoner of the Mountains (Kavkazsky plennik) ...</td>\n",
       "      <td>War</td>\n",
       "      <td>Prisoner of the Mountains (Kavkazsky plennik) ...</td>\n",
       "    </tr>\n",
       "  </tbody>\n",
       "</table>\n",
       "</div>"
      ],
      "text/plain": [
       "   movie_id                                         movie_name category_0  \\\n",
       "0       777                              Pharaoh's Army (1995)        War   \n",
       "1       966                          Walk in the Sun, A (1945)        War   \n",
       "2      1450  Prisoner of the Mountains (Kavkazsky plennik) ...        War   \n",
       "\n",
       "                                         full_string  \n",
       "0                          Pharaoh's Army (1995) War  \n",
       "1                      Walk in the Sun, A (1945) War  \n",
       "2  Prisoner of the Mountains (Kavkazsky plennik) ...  "
      ]
     },
     "execution_count": 15,
     "metadata": {},
     "output_type": "execute_result"
    }
   ],
   "source": [
    "movies.head(3)"
   ]
  },
  {
   "cell_type": "code",
   "execution_count": 17,
   "metadata": {},
   "outputs": [],
   "source": [
    "index_item_matrix, embedding_matrix, unique_tokens_d  = src.get_embedding_and_index_item_matrix(\n",
    "                                                        movies.full_string.values, nlp, n_of_embedding_dims=300)\n"
   ]
  },
  {
   "cell_type": "code",
   "execution_count": 21,
   "metadata": {},
   "outputs": [],
   "source": [
    "export_d = {'index_item_matrix': index_item_matrix,\n",
    "           'embedding_matrix': embedding_matrix,\n",
    "           'unique_tokens_d': unique_tokens_d}\n",
    "\n",
    "import pickle\n",
    "with open('data/index_item_and_embedding_matrix_dict.pickle', 'wb') as handle:\n",
    "    pickle.dump(export_d, handle, protocol=pickle.HIGHEST_PROTOCOL)"
   ]
  },
  {
   "cell_type": "code",
   "execution_count": 61,
   "metadata": {},
   "outputs": [
    {
     "name": "stdout",
     "output_type": "stream",
     "text": [
      "hiya 0\n",
      ", 1\n",
      "what 2\n",
      "'s 3\n",
      "up 4\n",
      "? 5\n",
      "another 6\n",
      "description 7\n",
      "of 8\n",
      "stuff 9\n",
      "and 10\n",
      "a 11\n",
      "final 12\n",
      "one 13\n",
      "! 14\n",
      "Yay 15\n"
     ]
    }
   ],
   "source": [
    "for text, ind in unique_tokens_d.items():\n",
    "    print(text, ind)"
   ]
  },
  {
   "cell_type": "code",
   "execution_count": 53,
   "metadata": {},
   "outputs": [
    {
     "data": {
      "text/plain": [
       "{'hiya': 0,\n",
       " ',': 1,\n",
       " 'what': 2,\n",
       " \"'s\": 3,\n",
       " 'up': 4,\n",
       " '?': 5,\n",
       " 'another': 6,\n",
       " 'description': 7,\n",
       " 'of': 8,\n",
       " 'stuff': 9,\n",
       " 'and': 10,\n",
       " 'a': 11,\n",
       " 'final': 12,\n",
       " 'one': 13,\n",
       " '!': 14,\n",
       " 'Yay': 15}"
      ]
     },
     "execution_count": 53,
     "metadata": {},
     "output_type": "execute_result"
    }
   ],
   "source": [
    "unique_tokens_d"
   ]
  },
  {
   "cell_type": "code",
   "execution_count": 39,
   "metadata": {},
   "outputs": [],
   "source": [
    "unique_tokens = get_embedding_and_index_item_matrix(example_list, nlp, pad_string=\"xxxpad\",\n",
    "                   n_of_embedding_dims=96)"
   ]
  },
  {
   "cell_type": "code",
   "execution_count": 40,
   "metadata": {},
   "outputs": [
    {
     "data": {
      "text/plain": [
       "{'hiya': 0,\n",
       " ',': 1,\n",
       " 'what': 2,\n",
       " \"'s\": 3,\n",
       " 'up': 4,\n",
       " '?': 5,\n",
       " 'another': 6,\n",
       " 'description': 7,\n",
       " 'of': 8,\n",
       " 'stuff': 9,\n",
       " 'and': 10,\n",
       " 'a': 11,\n",
       " 'final': 12,\n",
       " 'one': 13,\n",
       " '!': 14,\n",
       " 'Yay': 15}"
      ]
     },
     "execution_count": 40,
     "metadata": {},
     "output_type": "execute_result"
    }
   ],
   "source": [
    "unique_tokens"
   ]
  },
  {
   "cell_type": "markdown",
   "metadata": {},
   "source": [
    "## Do Padding with pytorch instead?"
   ]
  },
  {
   "cell_type": "code",
   "execution_count": 6,
   "metadata": {},
   "outputs": [
    {
     "data": {
      "text/plain": [
       "torch.Size([25, 3, 300])"
      ]
     },
     "execution_count": 6,
     "metadata": {},
     "output_type": "execute_result"
    }
   ],
   "source": [
    "from torch.nn.utils.rnn import pad_sequence\n",
    "import torch\n",
    "a = torch.ones(25, 300)\n",
    "b = torch.ones(22, 300)\n",
    "c = torch.ones(15, 300)\n",
    "pad_sequence([a, b, c]).size()"
   ]
  },
  {
   "cell_type": "code",
   "execution_count": null,
   "metadata": {},
   "outputs": [],
   "source": []
  }
 ],
 "metadata": {
  "kernelspec": {
   "display_name": "Python [conda env:spike_basicoV5]",
   "language": "python",
   "name": "conda-env-spike_basicoV5-py"
  },
  "language_info": {
   "codemirror_mode": {
    "name": "ipython",
    "version": 3
   },
   "file_extension": ".py",
   "mimetype": "text/x-python",
   "name": "python",
   "nbconvert_exporter": "python",
   "pygments_lexer": "ipython3",
   "version": "3.6.7"
  }
 },
 "nbformat": 4,
 "nbformat_minor": 2
}
