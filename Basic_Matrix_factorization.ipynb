{
 "cells": [
  {
   "cell_type": "markdown",
   "metadata": {},
   "source": [
    "# Basic Matrix Factorization"
   ]
  },
  {
   "cell_type": "code",
   "execution_count": 1,
   "metadata": {},
   "outputs": [],
   "source": [
    "import torch\n",
    "\n",
    "class MatrixFactorization(torch.nn.Module):\n",
    "    def __init__(self, n_users, n_items, n_factors=20):\n",
    "        super().__init__()\n",
    "        self.user_factors = torch.nn.Embedding(n_users, n_factors, sparse=True)\n",
    "        self.item_factors = torch.nn.Embedding(n_items, n_factors, sparse=True)\n",
    "    def forward(self, user, item):\n",
    "        return (self.user_factors(user)*self.item_factors(item)).sum(1)\n",
    "    def predict(self, user, item):\n",
    "        return self.forward(user, item)\n"
   ]
  },
  {
   "cell_type": "code",
   "execution_count": 3,
   "metadata": {},
   "outputs": [],
   "source": [
    "import pandas as pd\n",
    "\n",
    "query = \"\"\"\n",
    "SELECT *\n",
    "FROM EVIC.ratings\n",
    "\"\"\"\n",
    "ratings = pd.read_gbq(query, project_id=\"spike-sandbox\", use_bqstorage_api=True)"
   ]
  },
  {
   "cell_type": "code",
   "execution_count": 16,
   "metadata": {},
   "outputs": [
    {
     "data": {
      "text/html": [
       "<div>\n",
       "<style scoped>\n",
       "    .dataframe tbody tr th:only-of-type {\n",
       "        vertical-align: middle;\n",
       "    }\n",
       "\n",
       "    .dataframe tbody tr th {\n",
       "        vertical-align: top;\n",
       "    }\n",
       "\n",
       "    .dataframe thead th {\n",
       "        text-align: right;\n",
       "    }\n",
       "</style>\n",
       "<table border=\"1\" class=\"dataframe\">\n",
       "  <thead>\n",
       "    <tr style=\"text-align: right;\">\n",
       "      <th></th>\n",
       "      <th>user_id</th>\n",
       "      <th>movie_id</th>\n",
       "      <th>rating</th>\n",
       "    </tr>\n",
       "  </thead>\n",
       "  <tbody>\n",
       "    <tr>\n",
       "      <th>0</th>\n",
       "      <td>6</td>\n",
       "      <td>4369</td>\n",
       "      <td>2.0</td>\n",
       "    </tr>\n",
       "    <tr>\n",
       "      <th>1</th>\n",
       "      <td>8</td>\n",
       "      <td>4992</td>\n",
       "      <td>2.0</td>\n",
       "    </tr>\n",
       "    <tr>\n",
       "      <th>2</th>\n",
       "      <td>8</td>\n",
       "      <td>5609</td>\n",
       "      <td>2.0</td>\n",
       "    </tr>\n",
       "    <tr>\n",
       "      <th>3</th>\n",
       "      <td>8</td>\n",
       "      <td>5833</td>\n",
       "      <td>2.0</td>\n",
       "    </tr>\n",
       "    <tr>\n",
       "      <th>4</th>\n",
       "      <td>12</td>\n",
       "      <td>3593</td>\n",
       "      <td>2.0</td>\n",
       "    </tr>\n",
       "    <tr>\n",
       "      <th>...</th>\n",
       "      <td>...</td>\n",
       "      <td>...</td>\n",
       "      <td>...</td>\n",
       "    </tr>\n",
       "    <tr>\n",
       "      <th>9982177</th>\n",
       "      <td>3067</td>\n",
       "      <td>736</td>\n",
       "      <td>1.5</td>\n",
       "    </tr>\n",
       "    <tr>\n",
       "      <th>9982178</th>\n",
       "      <td>3104</td>\n",
       "      <td>4848</td>\n",
       "      <td>1.5</td>\n",
       "    </tr>\n",
       "    <tr>\n",
       "      <th>9982179</th>\n",
       "      <td>3106</td>\n",
       "      <td>6295</td>\n",
       "      <td>1.5</td>\n",
       "    </tr>\n",
       "    <tr>\n",
       "      <th>9982180</th>\n",
       "      <td>3106</td>\n",
       "      <td>47122</td>\n",
       "      <td>1.5</td>\n",
       "    </tr>\n",
       "    <tr>\n",
       "      <th>9982185</th>\n",
       "      <td>3117</td>\n",
       "      <td>3418</td>\n",
       "      <td>1.5</td>\n",
       "    </tr>\n",
       "  </tbody>\n",
       "</table>\n",
       "<p>346096 rows × 3 columns</p>\n",
       "</div>"
      ],
      "text/plain": [
       "         user_id  movie_id  rating\n",
       "0              6      4369     2.0\n",
       "1              8      4992     2.0\n",
       "2              8      5609     2.0\n",
       "3              8      5833     2.0\n",
       "4             12      3593     2.0\n",
       "...          ...       ...     ...\n",
       "9982177     3067       736     1.5\n",
       "9982178     3104      4848     1.5\n",
       "9982179     3106      6295     1.5\n",
       "9982180     3106     47122     1.5\n",
       "9982185     3117      3418     1.5\n",
       "\n",
       "[346096 rows x 3 columns]"
      ]
     },
     "execution_count": 16,
     "metadata": {},
     "output_type": "execute_result"
    }
   ],
   "source": [
    "ratings_sample"
   ]
  },
  {
   "cell_type": "code",
   "execution_count": 98,
   "metadata": {},
   "outputs": [],
   "source": [
    "sample_users = 300\n",
    "ratings_sample = ratings[ratings.user_id.isin(ratings.user_id.unique()[0:sample_users])].copy()\n",
    "ratings_matrix = pd.pivot_table(ratings_sample, index='user_id', columns='movie_id', values='rating')\n",
    "ratings_matrix.fillna(0., inplace=True)\n",
    "ratings_matrix = ratings_matrix.values\n",
    "torch_ratings_matrix = torch.from_numpy(ratings_matrix)  "
   ]
  },
  {
   "cell_type": "code",
   "execution_count": 99,
   "metadata": {},
   "outputs": [],
   "source": [
    "n_users = ratings_matrix.shape[0]\n",
    "n_items = ratings_matrix.shape[1]\n",
    "items = range(0, n_items)\n",
    "users = range(0, n_users)\n"
   ]
  },
  {
   "cell_type": "code",
   "execution_count": 100,
   "metadata": {},
   "outputs": [
    {
     "data": {
      "text/plain": [
       "(300, 6025)"
      ]
     },
     "execution_count": 100,
     "metadata": {},
     "output_type": "execute_result"
    }
   ],
   "source": [
    "n_users, n_items"
   ]
  },
  {
   "cell_type": "code",
   "execution_count": 71,
   "metadata": {},
   "outputs": [],
   "source": [
    "import random"
   ]
  },
  {
   "cell_type": "code",
   "execution_count": 109,
   "metadata": {},
   "outputs": [
    {
     "name": "stdout",
     "output_type": "stream",
     "text": [
      "0 out of 1807500\n"
     ]
    },
    {
     "ename": "KeyboardInterrupt",
     "evalue": "",
     "output_type": "error",
     "traceback": [
      "\u001b[0;31m---------------------------------------------------------------------------\u001b[0m",
      "\u001b[0;31mKeyboardInterrupt\u001b[0m                         Traceback (most recent call last)",
      "\u001b[0;32m<ipython-input-109-8d4de69226c9>\u001b[0m in \u001b[0;36m<module>\u001b[0;34m\u001b[0m\n\u001b[1;32m     23\u001b[0m         \u001b[0mloss\u001b[0m\u001b[0;34m.\u001b[0m\u001b[0mbackward\u001b[0m\u001b[0;34m(\u001b[0m\u001b[0;34m)\u001b[0m\u001b[0;34m\u001b[0m\u001b[0;34m\u001b[0m\u001b[0m\n\u001b[1;32m     24\u001b[0m         \u001b[0;31m# update weights\u001b[0m\u001b[0;34m\u001b[0m\u001b[0;34m\u001b[0m\u001b[0;34m\u001b[0m\u001b[0m\n\u001b[0;32m---> 25\u001b[0;31m         \u001b[0moptimizer\u001b[0m\u001b[0;34m.\u001b[0m\u001b[0mstep\u001b[0m\u001b[0;34m(\u001b[0m\u001b[0;34m)\u001b[0m\u001b[0;34m\u001b[0m\u001b[0;34m\u001b[0m\u001b[0m\n\u001b[0m\u001b[1;32m     26\u001b[0m \u001b[0;34m\u001b[0m\u001b[0m\n\u001b[1;32m     27\u001b[0m         \u001b[0;32mif\u001b[0m \u001b[0mj\u001b[0m\u001b[0;34m%\u001b[0m\u001b[0;36m100_000\u001b[0m \u001b[0;34m==\u001b[0m \u001b[0;36m0\u001b[0m\u001b[0;34m:\u001b[0m\u001b[0;34m\u001b[0m\u001b[0;34m\u001b[0m\u001b[0m\n",
      "\u001b[0;32m~/miniconda3/envs/spike_basicoV5/lib/python3.6/site-packages/torch/optim/sgd.py\u001b[0m in \u001b[0;36mstep\u001b[0;34m(self, closure)\u001b[0m\n\u001b[1;32m    104\u001b[0m                         \u001b[0md_p\u001b[0m \u001b[0;34m=\u001b[0m \u001b[0mbuf\u001b[0m\u001b[0;34m\u001b[0m\u001b[0;34m\u001b[0m\u001b[0m\n\u001b[1;32m    105\u001b[0m \u001b[0;34m\u001b[0m\u001b[0m\n\u001b[0;32m--> 106\u001b[0;31m                 \u001b[0mp\u001b[0m\u001b[0;34m.\u001b[0m\u001b[0mdata\u001b[0m\u001b[0;34m.\u001b[0m\u001b[0madd_\u001b[0m\u001b[0;34m(\u001b[0m\u001b[0;34m-\u001b[0m\u001b[0mgroup\u001b[0m\u001b[0;34m[\u001b[0m\u001b[0;34m'lr'\u001b[0m\u001b[0;34m]\u001b[0m\u001b[0;34m,\u001b[0m \u001b[0md_p\u001b[0m\u001b[0;34m)\u001b[0m\u001b[0;34m\u001b[0m\u001b[0;34m\u001b[0m\u001b[0m\n\u001b[0m\u001b[1;32m    107\u001b[0m \u001b[0;34m\u001b[0m\u001b[0m\n\u001b[1;32m    108\u001b[0m         \u001b[0;32mreturn\u001b[0m \u001b[0mloss\u001b[0m\u001b[0;34m\u001b[0m\u001b[0;34m\u001b[0m\u001b[0m\n",
      "\u001b[0;31mKeyboardInterrupt\u001b[0m: "
     ]
    }
   ],
   "source": [
    "## Training loop\n",
    "#Movielens dataset with ratings scaled between [0, 1] to help with convergence.on the test set, error(RMSE) of 0.66\n",
    "import itertools\n",
    "\n",
    "model = MatrixFactorization(n_users, n_items, n_factors=20)\n",
    "loss_fn = torch.nn.MSELoss()\n",
    "optimizer = torch.optim.SGD(model.parameters(), lr=1e-6)\n",
    "\n",
    "losses = []\n",
    "epochs = range(0, 1)\n",
    "combinations = list(itertools.product(users, items))\n",
    "for epoch in epochs:\n",
    "    for j, (user, item) in enumerate(combinations):\n",
    "        # get user, item and rating data\n",
    "        rating = torch.FloatTensor([torch_ratings_matrix[user, item]])\n",
    "        user = torch.LongTensor([int(user)])\n",
    "        item = torch.LongTensor([int(item)])\n",
    "        # predict\n",
    "        prediction = model(user, item)\n",
    "        loss = loss_fn(prediction, rating)\n",
    "        losses += [loss.cpu().detach().tolist()]\n",
    "        # backpropagate\n",
    "        loss.backward()\n",
    "        # update weights\n",
    "        optimizer.step()\n",
    "        \n",
    "        if j%100_000 == 0:\n",
    "            print(f\"{j} out of {len(combinations)}\")\n",
    "    epoch += 1"
   ]
  },
  {
   "cell_type": "code",
   "execution_count": 30,
   "metadata": {},
   "outputs": [],
   "source": [
    "from numba import njit\n",
    "import numpy as np\n",
    "import time\n",
    "\n",
    "#Preallocate with expected number of larger than 0 dot products\n",
    "larger_than_0_prods = 100_000_000\n",
    "\n",
    "\n",
    "def filtered(user_embs, product_embs, min_cross_prod=0.):\n",
    "    \"\"\"\n",
    "    Calculates dot product between user_embs and product_embs\n",
    "    but keeps only the ones with \n",
    "    \"\"\"\n",
    "    filtered_m = np.empty(larger_than_0_prods, dtype=np.float32)\n",
    "    filtered_user_prod_ids = np.empty((larger_than_0_prods, 2), dtype=np.int32)\n",
    "    larger_than_0_count = 0\n",
    "    \n",
    "    for user_id in range(0, len(user_embs)):\n",
    "        for prod_id in range(0, len(product_embs)):\n",
    "            \n",
    "            dot_prod = np.dot(product_embs[prod_id], user_embs[user_id])\n",
    "            if dot_prod > min_cross_prod:\n",
    "                filtered_m[larger_than_0_count] = dot_prod\n",
    "                filtered_user_prod_ids[larger_than_0_count][0] = user_id\n",
    "                filtered_user_prod_ids[larger_than_0_count][1] = prod_id\n",
    "                larger_than_0_count += 1\n",
    "\n",
    "                                   \n",
    "    return filtered_m, filtered_user_prod_ids\n",
    "\n",
    "\n",
    "\n"
   ]
  },
  {
   "cell_type": "code",
   "execution_count": 17,
   "metadata": {},
   "outputs": [],
   "source": [
    "from numba import jit"
   ]
  },
  {
   "cell_type": "code",
   "execution_count": 41,
   "metadata": {},
   "outputs": [],
   "source": [
    "@jit(nopython=True, nogil=True)\n",
    "def njit_filtered(user_embs, product_embs, min_cross_prod=5.5):\n",
    "    \"\"\"\n",
    "    Calculates dot product between user_embs and product_embs\n",
    "    but keeps only the ones with dot producto > min_cross_prod\n",
    "    \"\"\"\n",
    "    filtered_m = np.empty(larger_than_0_prods, dtype=np.float64)\n",
    "    filtered_user_prod_ids = np.empty((larger_than_0_prods, 2), dtype=np.int64)\n",
    "    larger_than_0_count = 0\n",
    "    \n",
    "    for user_id in range(0, len(user_embs)):\n",
    "        for prod_id in range(0, len(product_embs)):            \n",
    "            dot_prod = np.dot(product_embs[prod_id], user_embs[user_id])\n",
    "            if dot_prod > min_cross_prod:\n",
    "                filtered_m[larger_than_0_count] = dot_prod\n",
    "                filtered_user_prod_ids[larger_than_0_count][0] = user_id\n",
    "                filtered_user_prod_ids[larger_than_0_count][1] = prod_id\n",
    "                larger_than_0_count += 1\n",
    "\n",
    "                                   \n",
    "    return filtered_m, filtered_user_prod_ids\n",
    "                "
   ]
  },
  {
   "cell_type": "code",
   "execution_count": null,
   "metadata": {},
   "outputs": [],
   "source": []
  },
  {
   "cell_type": "code",
   "execution_count": 46,
   "metadata": {},
   "outputs": [],
   "source": [
    "n_users = 1_000_000\n",
    "n_prods = 10_000\n",
    "n_factors = 30\n",
    "\n",
    "def convert_to_32(x):\n",
    "    return np.array(x, dtype=np.float32)\n",
    "user_embs = np.random.randn(n_users, n_factors)\n",
    "product_embs = np.random.randn(n_prods, n_factors)\n",
    "\n"
   ]
  },
  {
   "cell_type": "code",
   "execution_count": 33,
   "metadata": {},
   "outputs": [
    {
     "name": "stdout",
     "output_type": "stream",
     "text": [
      "50000000 combinations done in 1.3086119691530864 mins\n"
     ]
    }
   ],
   "source": [
    "start = time.time()\n",
    "filtered_m, filtered_user_prod_ids = filtered(user_embs,\n",
    "                                              product_embs, min_cross_prod=5.5)\n",
    "time1 = (time.time() - start)/60\n",
    "print(f\"{n_users * n_prods} combinations done in {time1} mins\")"
   ]
  },
  {
   "cell_type": "code",
   "execution_count": 47,
   "metadata": {},
   "outputs": [
    {
     "name": "stdout",
     "output_type": "stream",
     "text": [
      "10000000000 combinations done in 8.777861479918162 mins\n",
      "speedup: 0.14908095464332696\n"
     ]
    }
   ],
   "source": [
    "start = time.time()\n",
    "\n",
    "filtered_m, filtered_user_prod_ids = njit_filtered(user_embs, product_embs,\n",
    "                                                   min_cross_prod=35.5)\n",
    "time2 = (time.time() - start)/60\n",
    "print(f\"{n_users * n_prods} combinations done in {time2} mins\")\n",
    "print(f\"speedup: {time1/time2}\")"
   ]
  },
  {
   "cell_type": "code",
   "execution_count": null,
   "metadata": {},
   "outputs": [],
   "source": [
    "%%cython\n",
    "\n",
    "import numpy as np\n",
    "cimport numpy as np\n",
    "DTYPE = np.int\n",
    "ctypedef np.int_t DTYPE_t\n",
    "ctypedef np.float_t DTYPEF_t\n",
    "\n",
    "\n",
    "def f(np.ndarray[DTYPEF_t, ndim=1] user_embs,\n",
    "      product_embs, float min_cross_prod):\n",
    "    \"\"\"\n",
    "    Modifies \n",
    "    \"\"\"\n",
    "    cdef np.ndarray[DTYPEF_t, ndim=2] filtered_m = np.empty(non_zero_combinations, dtype=np.float32)\n",
    "    filtered_user_prod_ids = np.empty((non_zero_combinations, 2), dtype=np.int32)\n",
    "    non_zero_count = 0\n",
    "    \n",
    "    for user_id in range(0, len(user_embs)):\n",
    "        for prod_id in range(0, len(product_embs)):\n",
    "            \n",
    "            dot_prod = np.dot(product_embs[prod_id], user_embs[user_id])\n",
    "            if dot_prod > min_cross_prod:\n",
    "                filtered_m[non_zero_count] = dot_prod\n",
    "                filtered_user_prod_ids[non_zero_count] = [user_id, prod_id]\n",
    "                non_zero_count += 1\n",
    "\n",
    "                                   \n",
    "    return filtered_m, filtered_user_prod_ids"
   ]
  },
  {
   "cell_type": "code",
   "execution_count": 133,
   "metadata": {},
   "outputs": [
    {
     "data": {
      "text/plain": [
       "1000"
      ]
     },
     "execution_count": 133,
     "metadata": {},
     "output_type": "execute_result"
    }
   ],
   "source": [
    "len(prods_embs)º"
   ]
  },
  {
   "cell_type": "code",
   "execution_count": 7,
   "metadata": {},
   "outputs": [],
   "source": []
  },
  {
   "cell_type": "code",
   "execution_count": null,
   "metadata": {},
   "outputs": [],
   "source": [
    "import time\n",
    "start = time.time()\n",
    "filtered_m, filtered_user_prod_ids = f(user_embs, product_embs, min_cross_prod=0.)\n",
    "\n",
    "print(f\"{n_users * n_prods} combinations done in {(time.time() - start)/60} mins\")"
   ]
  },
  {
   "cell_type": "code",
   "execution_count": null,
   "metadata": {},
   "outputs": [],
   "source": [
    "2+3"
   ]
  },
  {
   "cell_type": "code",
   "execution_count": null,
   "metadata": {},
   "outputs": [],
   "source": [
    "2+2"
   ]
  },
  {
   "cell_type": "code",
   "execution_count": null,
   "metadata": {},
   "outputs": [],
   "source": [
    "for epoch in range(epochs):\n",
    "    epoch_loss = train_one_epoch( model, training_data_generator, loss_fn, optimizer, epoch, device)\n",
    "    \n"
   ]
  },
  {
   "cell_type": "code",
   "execution_count": 106,
   "metadata": {},
   "outputs": [
    {
     "data": {
      "text/plain": [
       "1807500"
      ]
     },
     "execution_count": 106,
     "metadata": {},
     "output_type": "execute_result"
    }
   ],
   "source": [
    "\n",
    "len(avers)"
   ]
  },
  {
   "cell_type": "code",
   "execution_count": 104,
   "metadata": {},
   "outputs": [
    {
     "data": {
      "text/plain": [
       "[<matplotlib.lines.Line2D at 0x7f8f6cf40c18>]"
      ]
     },
     "execution_count": 104,
     "metadata": {},
     "output_type": "execute_result"
    },
    {
     "data": {
      "image/png": "[encoded data removed]",
      "text/plain": [
       "<Figure size 720x864 with 3 Axes>"
      ]
     },
     "metadata": {
      "needs_background": "light"
     },
     "output_type": "display_data"
    }
   ],
   "source": [
    "%matplotlib inline\n",
    "import matplotlib.pyplot as plt\n",
    "fig, axes = plt.subplots(3, 1, figsize=(10, 12))\n",
    "axes[0].plot(losses)\n",
    "axes[1].plot(pd.Series(losses).rolling(window=500).mean())\n",
    "axes[2].plot(pd.Series(losses).rolling(window=5000).mean())"
   ]
  },
  {
   "cell_type": "code",
   "execution_count": 60,
   "metadata": {},
   "outputs": [
    {
     "data": {
      "text/plain": [
       "1.4431205987930298"
      ]
     },
     "execution_count": 60,
     "metadata": {},
     "output_type": "execute_result"
    }
   ],
   "source": [
    "detached.tolist()"
   ]
  },
  {
   "cell_type": "code",
   "execution_count": 43,
   "metadata": {},
   "outputs": [
    {
     "data": {
      "text/plain": [
       "[]"
      ]
     },
     "execution_count": 43,
     "metadata": {},
     "output_type": "execute_result"
    }
   ],
   "source": [
    "%matplotlib inline\n"
   ]
  },
  {
   "cell_type": "code",
   "execution_count": 52,
   "metadata": {},
   "outputs": [
    {
     "data": {
      "text/plain": [
       "array(18.055532, dtype=float32)"
      ]
     },
     "execution_count": 52,
     "metadata": {},
     "output_type": "execute_result"
    }
   ],
   "source": [
    "losses[0]"
   ]
  },
  {
   "cell_type": "code",
   "execution_count": null,
   "metadata": {},
   "outputs": [],
   "source": []
  },
  {
   "cell_type": "code",
   "execution_count": null,
   "metadata": {},
   "outputs": [],
   "source": []
  },
  {
   "cell_type": "code",
   "execution_count": null,
   "metadata": {},
   "outputs": [],
   "source": []
  },
  {
   "cell_type": "code",
   "execution_count": null,
   "metadata": {},
   "outputs": [],
   "source": []
  },
  {
   "cell_type": "code",
   "execution_count": null,
   "metadata": {},
   "outputs": [],
   "source": []
  },
  {
   "cell_type": "code",
   "execution_count": null,
   "metadata": {},
   "outputs": [],
   "source": []
  },
  {
   "cell_type": "code",
   "execution_count": null,
   "metadata": {},
   "outputs": [],
   "source": []
  },
  {
   "cell_type": "code",
   "execution_count": null,
   "metadata": {},
   "outputs": [],
   "source": []
  }
 ],
 "metadata": {
  "kernelspec": {
   "display_name": "Python [conda env:spike_basicoV5]",
   "language": "python",
   "name": "conda-env-spike_basicoV5-py"
  },
  "language_info": {
   "codemirror_mode": {
    "name": "ipython",
    "version": 3
   },
   "file_extension": ".py",
   "mimetype": "text/x-python",
   "name": "python",
   "nbconvert_exporter": "python",
   "pygments_lexer": "ipython3",
   "version": "3.6.7"
  }
 },
 "nbformat": 4,
 "nbformat_minor": 2
}
