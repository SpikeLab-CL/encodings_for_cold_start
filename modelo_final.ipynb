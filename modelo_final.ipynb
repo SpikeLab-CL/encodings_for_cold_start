{
 "cells": [
  {
   "cell_type": "code",
   "execution_count": 6,
   "metadata": {
    "ExecuteTime": {
     "end_time": "2019-12-18T14:12:08.584045Z",
     "start_time": "2019-12-18T14:12:08.581169Z"
    }
   },
   "outputs": [],
   "source": [
    "import torch\n",
    "from torch import nn\n",
    "import numpy as np\n",
    "import pickle\n",
    "import pandas as pd\n",
    "from itertools import product"
   ]
  },
  {
   "cell_type": "markdown",
   "metadata": {},
   "source": [
    "# Cargar datos"
   ]
  },
  {
   "cell_type": "markdown",
   "metadata": {},
   "source": [
    "## Embeddings"
   ]
  },
  {
   "cell_type": "code",
   "execution_count": 8,
   "metadata": {
    "ExecuteTime": {
     "end_time": "2019-12-18T14:15:58.658449Z",
     "start_time": "2019-12-18T14:15:58.615153Z"
    }
   },
   "outputs": [],
   "source": [
    "with open('index_item_and_embedding_matrix_dict.pickle', 'rb') as f:\n",
    "    index_emb_dict = pickle.load(f)\n",
    "\n",
    "index_item_matrix = torch.LongTensor(index_emb_dict['index_item_matrix'])\n",
    "embedding_matrix = torch.Tensor(index_emb_dict['embedding_matrix'])\n",
    "unique_tokens_d = index_emb_dict['unique_tokens_d']"
   ]
  },
  {
   "cell_type": "code",
   "execution_count": 9,
   "metadata": {
    "ExecuteTime": {
     "end_time": "2019-12-18T14:16:01.423824Z",
     "start_time": "2019-12-18T14:16:01.415156Z"
    }
   },
   "outputs": [
    {
     "data": {
      "text/plain": [
       "torch.Size([10681, 39])"
      ]
     },
     "execution_count": 9,
     "metadata": {},
     "output_type": "execute_result"
    }
   ],
   "source": [
    "index_item_matrix.shape"
   ]
  },
  {
   "cell_type": "code",
   "execution_count": 11,
   "metadata": {
    "ExecuteTime": {
     "end_time": "2019-12-18T14:16:05.992510Z",
     "start_time": "2019-12-18T14:16:05.989051Z"
    }
   },
   "outputs": [
    {
     "data": {
      "text/plain": [
       "torch.Size([10701, 300])"
      ]
     },
     "execution_count": 11,
     "metadata": {},
     "output_type": "execute_result"
    }
   ],
   "source": [
    "n_items = index_item_matrix.shape[0]\n",
    "embedding_matrix.shape"
   ]
  },
  {
   "cell_type": "code",
   "execution_count": 12,
   "metadata": {
    "ExecuteTime": {
     "end_time": "2019-12-18T14:16:07.502428Z",
     "start_time": "2019-12-18T14:16:07.499151Z"
    }
   },
   "outputs": [
    {
     "data": {
      "text/plain": [
       "10681"
      ]
     },
     "execution_count": 12,
     "metadata": {},
     "output_type": "execute_result"
    }
   ],
   "source": [
    "n_items"
   ]
  },
  {
   "cell_type": "markdown",
   "metadata": {},
   "source": [
    "## Ratings"
   ]
  },
  {
   "cell_type": "code",
   "execution_count": 13,
   "metadata": {
    "ExecuteTime": {
     "end_time": "2019-12-18T14:17:53.589940Z",
     "start_time": "2019-12-18T14:16:11.111224Z"
    }
   },
   "outputs": [],
   "source": [
    "PID = \"spike-sandbox\"\n",
    "\n",
    "query = \"\"\"\n",
    "SELECT *\n",
    "FROM EVIC.ratings\n",
    "\"\"\"\n",
    "ratings = pd.read_gbq(query, project_id=PID, use_bqstorage_api=True)"
   ]
  },
  {
   "cell_type": "code",
   "execution_count": 76,
   "metadata": {
    "ExecuteTime": {
     "end_time": "2019-12-18T13:26:21.202455Z",
     "start_time": "2019-12-18T13:26:21.195686Z"
    }
   },
   "outputs": [
    {
     "data": {
      "text/html": [
       "<div>\n",
       "<style scoped>\n",
       "    .dataframe tbody tr th:only-of-type {\n",
       "        vertical-align: middle;\n",
       "    }\n",
       "\n",
       "    .dataframe tbody tr th {\n",
       "        vertical-align: top;\n",
       "    }\n",
       "\n",
       "    .dataframe thead th {\n",
       "        text-align: right;\n",
       "    }\n",
       "</style>\n",
       "<table border=\"1\" class=\"dataframe\">\n",
       "  <thead>\n",
       "    <tr style=\"text-align: right;\">\n",
       "      <th></th>\n",
       "      <th>user_id</th>\n",
       "      <th>movie_id</th>\n",
       "      <th>rating</th>\n",
       "    </tr>\n",
       "  </thead>\n",
       "  <tbody>\n",
       "    <tr>\n",
       "      <th>0</th>\n",
       "      <td>8</td>\n",
       "      <td>1204</td>\n",
       "      <td>2.0</td>\n",
       "    </tr>\n",
       "    <tr>\n",
       "      <th>1</th>\n",
       "      <td>8</td>\n",
       "      <td>1388</td>\n",
       "      <td>2.0</td>\n",
       "    </tr>\n",
       "    <tr>\n",
       "      <th>2</th>\n",
       "      <td>8</td>\n",
       "      <td>2548</td>\n",
       "      <td>2.0</td>\n",
       "    </tr>\n",
       "    <tr>\n",
       "      <th>3</th>\n",
       "      <td>12</td>\n",
       "      <td>3608</td>\n",
       "      <td>2.0</td>\n",
       "    </tr>\n",
       "    <tr>\n",
       "      <th>4</th>\n",
       "      <td>13</td>\n",
       "      <td>4502</td>\n",
       "      <td>2.0</td>\n",
       "    </tr>\n",
       "  </tbody>\n",
       "</table>\n",
       "</div>"
      ],
      "text/plain": [
       "   user_id  movie_id  rating\n",
       "0        8      1204     2.0\n",
       "1        8      1388     2.0\n",
       "2        8      2548     2.0\n",
       "3       12      3608     2.0\n",
       "4       13      4502     2.0"
      ]
     },
     "execution_count": 76,
     "metadata": {},
     "output_type": "execute_result"
    }
   ],
   "source": [
    "ratings.head()"
   ]
  },
  {
   "cell_type": "code",
   "execution_count": 100,
   "metadata": {
    "ExecuteTime": {
     "end_time": "2019-12-18T13:43:46.346347Z",
     "start_time": "2019-12-18T13:43:46.076611Z"
    }
   },
   "outputs": [],
   "source": [
    "n_users = ratings.user_id.nunique()"
   ]
  },
  {
   "cell_type": "code",
   "execution_count": 80,
   "metadata": {
    "ExecuteTime": {
     "end_time": "2019-12-18T13:27:43.464833Z",
     "start_time": "2019-12-18T13:27:43.085489Z"
    }
   },
   "outputs": [
    {
     "data": {
      "text/plain": [
       "<matplotlib.axes._subplots.AxesSubplot at 0x140294e10>"
      ]
     },
     "execution_count": 80,
     "metadata": {},
     "output_type": "execute_result"
    },
    {
     "data": {
      "image/png": "[encoded data removed]",
      "text/plain": [
       "<Figure size 432x288 with 1 Axes>"
      ]
     },
     "metadata": {
      "needs_background": "light"
     },
     "output_type": "display_data"
    }
   ],
   "source": [
    "ratings.rating.hist(bins=30)"
   ]
  },
  {
   "cell_type": "markdown",
   "metadata": {},
   "source": [
    "## Generar índices de peliculas y usuarios"
   ]
  },
  {
   "cell_type": "code",
   "execution_count": 86,
   "metadata": {
    "ExecuteTime": {
     "end_time": "2019-12-18T13:36:18.813067Z",
     "start_time": "2019-12-18T13:36:17.669140Z"
    }
   },
   "outputs": [],
   "source": [
    "ratings['movie_id'] = ratings['movie_id'].astype(\"category\")\n",
    "ratings['movie_idx'] = ratings['movie_id'].cat.codes\n",
    "\n",
    "movie_dict = pd.concat([ratings['movie_id'], ratings['movie_idx']], axis=1)\n",
    "movie_dict.rename(columns={0: 'id'}, inplace=True)\n",
    "\n",
    "movie_dict = movie_dict.drop_duplicates().sort_values(by='movie_idx')\n",
    "movie_dict.set_index('movie_idx', inplace=True)\n",
    "\n",
    "ratings['user_id'] = ratings['user_id'].astype(\"category\")\n",
    "ratings['user_idx'] = ratings['user_id'].cat.codes\n",
    "\n",
    "user_dict = pd.concat([ratings['user_id'], ratings['user_idx']], axis=1)\n",
    "user_dict.rename(columns={0: 'id'}, inplace=True)\n",
    "\n",
    "user_dict = user_dict.drop_duplicates().sort_values(by='user_idx')\n",
    "user_dict.set_index('user_idx', inplace=True)"
   ]
  },
  {
   "cell_type": "code",
   "execution_count": 87,
   "metadata": {
    "ExecuteTime": {
     "end_time": "2019-12-18T13:36:22.417814Z",
     "start_time": "2019-12-18T13:36:22.405177Z"
    }
   },
   "outputs": [
    {
     "data": {
      "text/html": [
       "<div>\n",
       "<style scoped>\n",
       "    .dataframe tbody tr th:only-of-type {\n",
       "        vertical-align: middle;\n",
       "    }\n",
       "\n",
       "    .dataframe tbody tr th {\n",
       "        vertical-align: top;\n",
       "    }\n",
       "\n",
       "    .dataframe thead th {\n",
       "        text-align: right;\n",
       "    }\n",
       "</style>\n",
       "<table border=\"1\" class=\"dataframe\">\n",
       "  <thead>\n",
       "    <tr style=\"text-align: right;\">\n",
       "      <th></th>\n",
       "      <th>user_id</th>\n",
       "      <th>movie_id</th>\n",
       "      <th>rating</th>\n",
       "      <th>movie_idx</th>\n",
       "      <th>user_idx</th>\n",
       "    </tr>\n",
       "  </thead>\n",
       "  <tbody>\n",
       "    <tr>\n",
       "      <th>0</th>\n",
       "      <td>8</td>\n",
       "      <td>1204</td>\n",
       "      <td>2.0</td>\n",
       "      <td>1179</td>\n",
       "      <td>7</td>\n",
       "    </tr>\n",
       "    <tr>\n",
       "      <th>1</th>\n",
       "      <td>8</td>\n",
       "      <td>1388</td>\n",
       "      <td>2.0</td>\n",
       "      <td>1357</td>\n",
       "      <td>7</td>\n",
       "    </tr>\n",
       "    <tr>\n",
       "      <th>2</th>\n",
       "      <td>8</td>\n",
       "      <td>2548</td>\n",
       "      <td>2.0</td>\n",
       "      <td>2464</td>\n",
       "      <td>7</td>\n",
       "    </tr>\n",
       "    <tr>\n",
       "      <th>3</th>\n",
       "      <td>12</td>\n",
       "      <td>3608</td>\n",
       "      <td>2.0</td>\n",
       "      <td>3519</td>\n",
       "      <td>11</td>\n",
       "    </tr>\n",
       "    <tr>\n",
       "      <th>4</th>\n",
       "      <td>13</td>\n",
       "      <td>4502</td>\n",
       "      <td>2.0</td>\n",
       "      <td>4409</td>\n",
       "      <td>12</td>\n",
       "    </tr>\n",
       "  </tbody>\n",
       "</table>\n",
       "</div>"
      ],
      "text/plain": [
       "  user_id movie_id  rating  movie_idx  user_idx\n",
       "0       8     1204     2.0       1179         7\n",
       "1       8     1388     2.0       1357         7\n",
       "2       8     2548     2.0       2464         7\n",
       "3      12     3608     2.0       3519        11\n",
       "4      13     4502     2.0       4409        12"
      ]
     },
     "execution_count": 87,
     "metadata": {},
     "output_type": "execute_result"
    }
   ],
   "source": [
    "ratings.head()"
   ]
  },
  {
   "cell_type": "markdown",
   "metadata": {},
   "source": [
    "## Generar preference"
   ]
  },
  {
   "cell_type": "code",
   "execution_count": 88,
   "metadata": {
    "ExecuteTime": {
     "end_time": "2019-12-18T13:39:11.217546Z",
     "start_time": "2019-12-18T13:38:41.841606Z"
    }
   },
   "outputs": [],
   "source": [
    "ratings_matrix = pd.pivot_table(ratings, index='movie_idx', columns='user_idx', values='rating')"
   ]
  },
  {
   "cell_type": "code",
   "execution_count": 97,
   "metadata": {
    "ExecuteTime": {
     "end_time": "2019-12-18T13:41:37.389851Z",
     "start_time": "2019-12-18T13:41:36.029456Z"
    }
   },
   "outputs": [
    {
     "name": "stdout",
     "output_type": "stream",
     "text": [
      "sparcity = 98.66%\n"
     ]
    }
   ],
   "source": [
    "sparcity = round(100 * ratings_matrix.isna().sum().sum() / ratings_matrix.size, 2)\n",
    "print(f'sparcity = {sparcity}%')"
   ]
  },
  {
   "cell_type": "code",
   "execution_count": 98,
   "metadata": {
    "ExecuteTime": {
     "end_time": "2019-12-18T13:42:27.641029Z",
     "start_time": "2019-12-18T13:42:01.057239Z"
    }
   },
   "outputs": [],
   "source": [
    "ratings_matrix = ratings_matrix.fillna(0)"
   ]
  },
  {
   "cell_type": "code",
   "execution_count": 135,
   "metadata": {
    "ExecuteTime": {
     "end_time": "2019-12-18T14:04:15.563423Z",
     "start_time": "2019-12-18T14:02:14.454026Z"
    }
   },
   "outputs": [
    {
     "data": {
      "text/html": [
       "<div>\n",
       "<style scoped>\n",
       "    .dataframe tbody tr th:only-of-type {\n",
       "        vertical-align: middle;\n",
       "    }\n",
       "\n",
       "    .dataframe tbody tr th {\n",
       "        vertical-align: top;\n",
       "    }\n",
       "\n",
       "    .dataframe thead th {\n",
       "        text-align: right;\n",
       "    }\n",
       "</style>\n",
       "<table border=\"1\" class=\"dataframe\">\n",
       "  <thead>\n",
       "    <tr style=\"text-align: right;\">\n",
       "      <th></th>\n",
       "      <th>user_idx</th>\n",
       "      <th>movie_idx</th>\n",
       "      <th>rating</th>\n",
       "      <th>preference</th>\n",
       "    </tr>\n",
       "  </thead>\n",
       "  <tbody>\n",
       "    <tr>\n",
       "      <th>0</th>\n",
       "      <td>0</td>\n",
       "      <td>0</td>\n",
       "      <td>0.0</td>\n",
       "      <td>0</td>\n",
       "    </tr>\n",
       "    <tr>\n",
       "      <th>1</th>\n",
       "      <td>0</td>\n",
       "      <td>1</td>\n",
       "      <td>0.0</td>\n",
       "      <td>0</td>\n",
       "    </tr>\n",
       "    <tr>\n",
       "      <th>2</th>\n",
       "      <td>0</td>\n",
       "      <td>2</td>\n",
       "      <td>0.0</td>\n",
       "      <td>0</td>\n",
       "    </tr>\n",
       "    <tr>\n",
       "      <th>3</th>\n",
       "      <td>0</td>\n",
       "      <td>3</td>\n",
       "      <td>0.0</td>\n",
       "      <td>0</td>\n",
       "    </tr>\n",
       "    <tr>\n",
       "      <th>4</th>\n",
       "      <td>0</td>\n",
       "      <td>4</td>\n",
       "      <td>0.0</td>\n",
       "      <td>0</td>\n",
       "    </tr>\n",
       "  </tbody>\n",
       "</table>\n",
       "</div>"
      ],
      "text/plain": [
       "   user_idx  movie_idx  rating  preference\n",
       "0         0          0     0.0           0\n",
       "1         0          1     0.0           0\n",
       "2         0          2     0.0           0\n",
       "3         0          3     0.0           0\n",
       "4         0          4     0.0           0"
      ]
     },
     "execution_count": 135,
     "metadata": {},
     "output_type": "execute_result"
    }
   ],
   "source": [
    "rating_thresh = 3.5\n",
    "\n",
    "ratings_full = ratings_matrix.unstack().to_frame('rating').reset_index()\n",
    "ratings_full['preference'] = ratings_full.eval(f'(rating >= {rating_thresh})').astype('int')\n",
    "\n",
    "movie_idx = torch.LongTensor(ratings_full['movie_idx'].values)\n",
    "user_idx = torch.LongTensor(ratings_full['user_idx'].values)\n",
    "cofidence = torch.Tensor(ratings_full['rating'].values)\n",
    "preference = torch.Tensor(ratings_full['preference'].values)\n",
    "\n",
    "\n",
    "ratings_full.head()"
   ]
  },
  {
   "cell_type": "code",
   "execution_count": 136,
   "metadata": {
    "ExecuteTime": {
     "end_time": "2019-12-18T14:08:28.050424Z",
     "start_time": "2019-12-18T14:08:16.162281Z"
    }
   },
   "outputs": [
    {
     "data": {
      "text/plain": [
       "10676"
      ]
     },
     "execution_count": 136,
     "metadata": {},
     "output_type": "execute_result"
    }
   ],
   "source": [
    "ratings_full.movie_idx.max()"
   ]
  },
  {
   "cell_type": "code",
   "execution_count": null,
   "metadata": {
    "ExecuteTime": {
     "start_time": "2019-12-18T14:08:40.056Z"
    }
   },
   "outputs": [],
   "source": [
    "ratings_full[['rating', 'preference']].hist(bins=20, figsize=(10, 5));"
   ]
  },
  {
   "cell_type": "markdown",
   "metadata": {},
   "source": [
    "# Modelo"
   ]
  },
  {
   "cell_type": "markdown",
   "metadata": {},
   "source": [
    "## Definir modelo"
   ]
  },
  {
   "cell_type": "code",
   "execution_count": 122,
   "metadata": {
    "ExecuteTime": {
     "end_time": "2019-12-18T13:56:11.667593Z",
     "start_time": "2019-12-18T13:56:11.656906Z"
    }
   },
   "outputs": [],
   "source": [
    "def trunc_normal_(x, mean=0, std=1.):\n",
    "    \"Truncated normal initialization.\"\n",
    "    # From https://discuss.pytorch.org/t/implementing-truncated-normal-initializer/4778/12\n",
    "    return x.normal_().fmod_(2).mul_(std).add_(mean)\n",
    "\n",
    "def embedding(ni:int,nf:int):\n",
    "    \"Create an embedding layer.\"\n",
    "    emb = nn.Embedding(ni, nf)\n",
    "    # See https://arxiv.org/abs/1711.09160\n",
    "    with torch.no_grad(): trunc_normal_(emb.weight, std=0.01)\n",
    "    return emb\n",
    "\n",
    "class EmbeddingDotBias(nn.Module):\n",
    "    \"Base dot model for collaborative filtering.\"\n",
    "    def __init__(self, n_users_factors, \n",
    "                 n_users, n_items, index_item_matrix, embedding_matrix, y_range=None):\n",
    "        super().__init__()\n",
    "        self.y_range = y_range\n",
    "        #generar embedings de usuarios y bias de usuarios e items\n",
    "        (self.u_weight, self.u_bias, self.i_bias) = [embedding(*o) for o in [\n",
    "            (n_users, n_users_factors), (n_users, 1), (n_items, 1)]]\n",
    "        \n",
    "        self.index_item_matrix = index_item_matrix # N_glosas x Largo_maximo_glosas \n",
    "        self.embedding_matrix = embedding_matrix # (N_palabras + 1) x N_latentes\n",
    "        \n",
    "        self.largo_max_glosas = index_item_matrix.shape[1]\n",
    "        self.n_latent = embedding_matrix.shape[1]\n",
    "        #https://pytorch.org/docs/stable/nn.html#torch.nn.Conv1d\n",
    "        kernel_size = self.largo_max_glosas * self.n_latent - n_users_factors + 1\n",
    "        self.conv = torch.nn.Conv1d(1, 1, kernel_size=kernel_size)\n",
    "\n",
    "    def forward(self, users, items):\n",
    "        idx_items = self.index_item_matrix[items] #indices de palabras en las glosas Nitems x Largo_max\n",
    "        i_weights_full = self.embedding_matrix[idx_items] #latentes de glosas\n",
    "        i_weight = self.conv(i_weights_full.reshape((len(items), 1, -1))).squeeze()\n",
    "        dot = self.u_weight(users) * i_weight\n",
    "        res = dot.sum(1) + self.u_bias(users).squeeze() + self.i_bias(items).squeeze()\n",
    "        if self.y_range is None: return res\n",
    "        return torch.sigmoid(res) * (self.y_range[1]-self.y_range[0]) + self.y_range[0]"
   ]
  },
  {
   "cell_type": "markdown",
   "metadata": {},
   "source": [
    "## Inicializar"
   ]
  },
  {
   "cell_type": "code",
   "execution_count": 123,
   "metadata": {
    "ExecuteTime": {
     "end_time": "2019-12-18T13:56:12.924673Z",
     "start_time": "2019-12-18T13:56:12.875984Z"
    }
   },
   "outputs": [],
   "source": [
    "n_users_factors = 30\n",
    "model = EmbeddingDotBias(n_users_factors, n_users, n_items, index_item_matrix, embedding_matrix)"
   ]
  },
  {
   "cell_type": "code",
   "execution_count": 127,
   "metadata": {
    "ExecuteTime": {
     "end_time": "2019-12-18T13:59:46.955578Z",
     "start_time": "2019-12-18T13:59:46.952466Z"
    }
   },
   "outputs": [
    {
     "data": {
      "text/plain": [
       "torch.Size([10681, 39])"
      ]
     },
     "execution_count": 127,
     "metadata": {},
     "output_type": "execute_result"
    }
   ],
   "source": [
    "index_item_matrix.shape"
   ]
  },
  {
   "cell_type": "code",
   "execution_count": 125,
   "metadata": {
    "ExecuteTime": {
     "end_time": "2019-12-18T13:58:30.527613Z",
     "start_time": "2019-12-18T13:58:30.462994Z"
    }
   },
   "outputs": [
    {
     "ename": "IndexError",
     "evalue": "index 10681 is out of bounds for dimension 0 with size 10681",
     "output_type": "error",
     "traceback": [
      "\u001b[0;31m---------------------------------------------------------------------------\u001b[0m",
      "\u001b[0;31mIndexError\u001b[0m                                Traceback (most recent call last)",
      "\u001b[0;32m<ipython-input-125-d37e9fa6316e>\u001b[0m in \u001b[0;36m<module>\u001b[0;34m\u001b[0m\n\u001b[0;32m----> 1\u001b[0;31m \u001b[0mmodel\u001b[0m\u001b[0;34m(\u001b[0m\u001b[0mmovie_idx\u001b[0m\u001b[0;34m,\u001b[0m \u001b[0muser_idx\u001b[0m\u001b[0;34m)\u001b[0m\u001b[0;34m\u001b[0m\u001b[0;34m\u001b[0m\u001b[0m\n\u001b[0m",
      "\u001b[0;32m~/miniconda3/envs/spike_basicoV5/lib/python3.6/site-packages/torch/nn/modules/module.py\u001b[0m in \u001b[0;36m__call__\u001b[0;34m(self, *input, **kwargs)\u001b[0m\n\u001b[1;32m    491\u001b[0m             \u001b[0mresult\u001b[0m \u001b[0;34m=\u001b[0m \u001b[0mself\u001b[0m\u001b[0;34m.\u001b[0m\u001b[0m_slow_forward\u001b[0m\u001b[0;34m(\u001b[0m\u001b[0;34m*\u001b[0m\u001b[0minput\u001b[0m\u001b[0;34m,\u001b[0m \u001b[0;34m**\u001b[0m\u001b[0mkwargs\u001b[0m\u001b[0;34m)\u001b[0m\u001b[0;34m\u001b[0m\u001b[0;34m\u001b[0m\u001b[0m\n\u001b[1;32m    492\u001b[0m         \u001b[0;32melse\u001b[0m\u001b[0;34m:\u001b[0m\u001b[0;34m\u001b[0m\u001b[0;34m\u001b[0m\u001b[0m\n\u001b[0;32m--> 493\u001b[0;31m             \u001b[0mresult\u001b[0m \u001b[0;34m=\u001b[0m \u001b[0mself\u001b[0m\u001b[0;34m.\u001b[0m\u001b[0mforward\u001b[0m\u001b[0;34m(\u001b[0m\u001b[0;34m*\u001b[0m\u001b[0minput\u001b[0m\u001b[0;34m,\u001b[0m \u001b[0;34m**\u001b[0m\u001b[0mkwargs\u001b[0m\u001b[0;34m)\u001b[0m\u001b[0;34m\u001b[0m\u001b[0;34m\u001b[0m\u001b[0m\n\u001b[0m\u001b[1;32m    494\u001b[0m         \u001b[0;32mfor\u001b[0m \u001b[0mhook\u001b[0m \u001b[0;32min\u001b[0m \u001b[0mself\u001b[0m\u001b[0;34m.\u001b[0m\u001b[0m_forward_hooks\u001b[0m\u001b[0;34m.\u001b[0m\u001b[0mvalues\u001b[0m\u001b[0;34m(\u001b[0m\u001b[0;34m)\u001b[0m\u001b[0;34m:\u001b[0m\u001b[0;34m\u001b[0m\u001b[0;34m\u001b[0m\u001b[0m\n\u001b[1;32m    495\u001b[0m             \u001b[0mhook_result\u001b[0m \u001b[0;34m=\u001b[0m \u001b[0mhook\u001b[0m\u001b[0;34m(\u001b[0m\u001b[0mself\u001b[0m\u001b[0;34m,\u001b[0m \u001b[0minput\u001b[0m\u001b[0;34m,\u001b[0m \u001b[0mresult\u001b[0m\u001b[0;34m)\u001b[0m\u001b[0;34m\u001b[0m\u001b[0;34m\u001b[0m\u001b[0m\n",
      "\u001b[0;32m<ipython-input-122-d75874d472e5>\u001b[0m in \u001b[0;36mforward\u001b[0;34m(self, users, items)\u001b[0m\n\u001b[1;32m     31\u001b[0m \u001b[0;34m\u001b[0m\u001b[0m\n\u001b[1;32m     32\u001b[0m     \u001b[0;32mdef\u001b[0m \u001b[0mforward\u001b[0m\u001b[0;34m(\u001b[0m\u001b[0mself\u001b[0m\u001b[0;34m,\u001b[0m \u001b[0musers\u001b[0m\u001b[0;34m,\u001b[0m \u001b[0mitems\u001b[0m\u001b[0;34m)\u001b[0m\u001b[0;34m:\u001b[0m\u001b[0;34m\u001b[0m\u001b[0;34m\u001b[0m\u001b[0m\n\u001b[0;32m---> 33\u001b[0;31m         \u001b[0midx_items\u001b[0m \u001b[0;34m=\u001b[0m \u001b[0mself\u001b[0m\u001b[0;34m.\u001b[0m\u001b[0mindex_item_matrix\u001b[0m\u001b[0;34m[\u001b[0m\u001b[0mitems\u001b[0m\u001b[0;34m]\u001b[0m \u001b[0;31m#indices de palabras en las glosas Nitems x Largo_max\u001b[0m\u001b[0;34m\u001b[0m\u001b[0;34m\u001b[0m\u001b[0m\n\u001b[0m\u001b[1;32m     34\u001b[0m         \u001b[0mi_weights_full\u001b[0m \u001b[0;34m=\u001b[0m \u001b[0mself\u001b[0m\u001b[0;34m.\u001b[0m\u001b[0membedding_matrix\u001b[0m\u001b[0;34m[\u001b[0m\u001b[0midx_items\u001b[0m\u001b[0;34m]\u001b[0m \u001b[0;31m#latentes de glosas\u001b[0m\u001b[0;34m\u001b[0m\u001b[0;34m\u001b[0m\u001b[0m\n\u001b[1;32m     35\u001b[0m         \u001b[0mi_weight\u001b[0m \u001b[0;34m=\u001b[0m \u001b[0mself\u001b[0m\u001b[0;34m.\u001b[0m\u001b[0mconv\u001b[0m\u001b[0;34m(\u001b[0m\u001b[0mi_weights_full\u001b[0m\u001b[0;34m.\u001b[0m\u001b[0mreshape\u001b[0m\u001b[0;34m(\u001b[0m\u001b[0;34m(\u001b[0m\u001b[0mlen\u001b[0m\u001b[0;34m(\u001b[0m\u001b[0mitems\u001b[0m\u001b[0;34m)\u001b[0m\u001b[0;34m,\u001b[0m \u001b[0;36m1\u001b[0m\u001b[0;34m,\u001b[0m \u001b[0;34m-\u001b[0m\u001b[0;36m1\u001b[0m\u001b[0;34m)\u001b[0m\u001b[0;34m)\u001b[0m\u001b[0;34m)\u001b[0m\u001b[0;34m.\u001b[0m\u001b[0msqueeze\u001b[0m\u001b[0;34m(\u001b[0m\u001b[0;34m)\u001b[0m\u001b[0;34m\u001b[0m\u001b[0;34m\u001b[0m\u001b[0m\n",
      "\u001b[0;31mIndexError\u001b[0m: index 10681 is out of bounds for dimension 0 with size 10681"
     ]
    }
   ],
   "source": [
    "model(movie_idx, user_idx)"
   ]
  },
  {
   "cell_type": "code",
   "execution_count": 20,
   "metadata": {
    "ExecuteTime": {
     "end_time": "2019-12-17T19:45:27.111679Z",
     "start_time": "2019-12-17T19:45:27.106181Z"
    }
   },
   "outputs": [
    {
     "name": "stdout",
     "output_type": "stream",
     "text": [
      "torch.Size([2, 28])\n",
      "torch.Size([2, 28])\n"
     ]
    },
    {
     "data": {
      "text/plain": [
       "tensor([0.0342, 0.0004], grad_fn=<AddBackward0>)"
      ]
     },
     "execution_count": 20,
     "metadata": {},
     "output_type": "execute_result"
    }
   ],
   "source": [
    "m(items,items)"
   ]
  },
  {
   "cell_type": "code",
   "execution_count": 21,
   "metadata": {
    "ExecuteTime": {
     "end_time": "2019-12-17T19:45:29.439801Z",
     "start_time": "2019-12-17T19:45:29.435826Z"
    }
   },
   "outputs": [
    {
     "data": {
      "text/plain": [
       "tensor([[10,  7,  0, 10,  1,  6,  7, 10],\n",
       "        [ 5, 10,  3,  6,  7,  2,  5,  2]])"
      ]
     },
     "execution_count": 21,
     "metadata": {},
     "output_type": "execute_result"
    }
   ],
   "source": [
    "index_item_matrix[items]"
   ]
  },
  {
   "cell_type": "code",
   "execution_count": 23,
   "metadata": {
    "ExecuteTime": {
     "end_time": "2019-12-17T19:45:35.096814Z",
     "start_time": "2019-12-17T19:45:35.091696Z"
    }
   },
   "outputs": [
    {
     "data": {
      "text/plain": [
       "tensor([[[-1.2850,  1.5635, -0.7636,  0.9608,  1.2668],\n",
       "         [-0.0930, -2.2290, -0.7536,  0.2702, -0.4928],\n",
       "         [-0.5741,  0.9674,  0.8741, -1.4479, -0.1094],\n",
       "         [-1.2850,  1.5635, -0.7636,  0.9608,  1.2668],\n",
       "         [ 0.7824,  1.8313, -1.7600,  0.7079,  0.2829],\n",
       "         [ 1.1292,  1.7602, -0.2368, -0.3784, -0.0589],\n",
       "         [-0.0930, -2.2290, -0.7536,  0.2702, -0.4928],\n",
       "         [-1.2850,  1.5635, -0.7636,  0.9608,  1.2668]],\n",
       "\n",
       "        [[ 0.0204, -1.2497, -0.7541, -0.8382,  1.0691],\n",
       "         [-1.2850,  1.5635, -0.7636,  0.9608,  1.2668],\n",
       "         [ 1.6832, -0.1488, -1.0298, -0.0191,  1.8393],\n",
       "         [ 1.1292,  1.7602, -0.2368, -0.3784, -0.0589],\n",
       "         [-0.0930, -2.2290, -0.7536,  0.2702, -0.4928],\n",
       "         [ 0.2636, -2.5898,  0.6262, -1.4697, -0.7319],\n",
       "         [ 0.0204, -1.2497, -0.7541, -0.8382,  1.0691],\n",
       "         [ 0.2636, -2.5898,  0.6262, -1.4697, -0.7319]]])"
      ]
     },
     "execution_count": 23,
     "metadata": {},
     "output_type": "execute_result"
    }
   ],
   "source": [
    "embedding_matrix[index_item_matrix[items]]"
   ]
  },
  {
   "cell_type": "code",
   "execution_count": 24,
   "metadata": {
    "ExecuteTime": {
     "end_time": "2019-12-17T19:45:47.775321Z",
     "start_time": "2019-12-17T19:45:47.771433Z"
    }
   },
   "outputs": [
    {
     "data": {
      "text/plain": [
       "torch.Size([2, 8, 5])"
      ]
     },
     "execution_count": 24,
     "metadata": {},
     "output_type": "execute_result"
    }
   ],
   "source": [
    "embedding_matrix[index_item_matrix[items]].shape"
   ]
  },
  {
   "cell_type": "code",
   "execution_count": 27,
   "metadata": {
    "ExecuteTime": {
     "end_time": "2019-12-17T19:48:04.605202Z",
     "start_time": "2019-12-17T19:48:04.599916Z"
    }
   },
   "outputs": [
    {
     "data": {
      "text/plain": [
       "tensor([[-1.2850,  1.5635, -0.7636,  0.9608,  1.2668, -0.0930, -2.2290, -0.7536,\n",
       "          0.2702, -0.4928, -0.5741,  0.9674,  0.8741, -1.4479, -0.1094, -1.2850,\n",
       "          1.5635, -0.7636,  0.9608,  1.2668,  0.7824,  1.8313, -1.7600,  0.7079,\n",
       "          0.2829,  1.1292,  1.7602, -0.2368, -0.3784, -0.0589, -0.0930, -2.2290,\n",
       "         -0.7536,  0.2702, -0.4928, -1.2850,  1.5635, -0.7636,  0.9608,  1.2668],\n",
       "        [ 0.0204, -1.2497, -0.7541, -0.8382,  1.0691, -1.2850,  1.5635, -0.7636,\n",
       "          0.9608,  1.2668,  1.6832, -0.1488, -1.0298, -0.0191,  1.8393,  1.1292,\n",
       "          1.7602, -0.2368, -0.3784, -0.0589, -0.0930, -2.2290, -0.7536,  0.2702,\n",
       "         -0.4928,  0.2636, -2.5898,  0.6262, -1.4697, -0.7319,  0.0204, -1.2497,\n",
       "         -0.7541, -0.8382,  1.0691,  0.2636, -2.5898,  0.6262, -1.4697, -0.7319]])"
      ]
     },
     "execution_count": 27,
     "metadata": {},
     "output_type": "execute_result"
    }
   ],
   "source": [
    "embedding_matrix[index_item_matrix[items]].reshape((2, -1))"
   ]
  },
  {
   "cell_type": "code",
   "execution_count": null,
   "metadata": {},
   "outputs": [],
   "source": []
  }
 ],
 "metadata": {
  "kernelspec": {
   "display_name": "Python [conda env:spike_basicoV5] *",
   "language": "python",
   "name": "conda-env-spike_basicoV5-py"
  },
  "language_info": {
   "codemirror_mode": {
    "name": "ipython",
    "version": 3
   },
   "file_extension": ".py",
   "mimetype": "text/x-python",
   "name": "python",
   "nbconvert_exporter": "python",
   "pygments_lexer": "ipython3",
   "version": "3.6.7"
  },
  "toc": {
   "base_numbering": 1,
   "nav_menu": {},
   "number_sections": true,
   "sideBar": true,
   "skip_h1_title": false,
   "title_cell": "Table of Contents",
   "title_sidebar": "Contents",
   "toc_cell": false,
   "toc_position": {},
   "toc_section_display": true,
   "toc_window_display": true
  }
 },
 "nbformat": 4,
 "nbformat_minor": 2
}
