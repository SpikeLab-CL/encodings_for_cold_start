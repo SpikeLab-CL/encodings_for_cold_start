{
 "cells": [
  {
   "cell_type": "code",
   "execution_count": 43,
   "metadata": {
    "ExecuteTime": {
     "end_time": "2019-12-18T17:31:59.187273Z",
     "start_time": "2019-12-18T17:31:59.137047Z"
    }
   },
   "outputs": [
    {
     "name": "stdout",
     "output_type": "stream",
     "text": [
      "The autoreload extension is already loaded. To reload it, use:\n",
      "  %reload_ext autoreload\n"
     ]
    }
   ],
   "source": [
    "%matplotlib inline\n",
    "%load_ext autoreload\n",
    "%autoreload 2\n",
    "\n",
    "import torch\n",
    "from torch import nn\n",
    "import numpy as np\n",
    "import pickle\n",
    "import pandas as pd\n",
    "import tqdm.notebook.tqdm as progress_bar\n",
    "from matplotlib import pyplot as plt"
   ]
  },
  {
   "cell_type": "markdown",
   "metadata": {},
   "source": [
    "# Cargar datos"
   ]
  },
  {
   "cell_type": "markdown",
   "metadata": {},
   "source": [
    "## Embeddings"
   ]
  },
  {
   "cell_type": "code",
   "execution_count": 2,
   "metadata": {
    "ExecuteTime": {
     "end_time": "2019-12-18T17:07:40.708698Z",
     "start_time": "2019-12-18T17:07:40.646642Z"
    }
   },
   "outputs": [],
   "source": [
    "with open('index_item_and_embedding_matrix_dict.pickle', 'rb') as f:\n",
    "    index_emb_dict = pickle.load(f)\n",
    "\n",
    "index_item_matrix = torch.LongTensor(index_emb_dict['index_item_matrix'])\n",
    "embedding_matrix = torch.Tensor(index_emb_dict['embedding_matrix'])\n",
    "unique_tokens_d = index_emb_dict['unique_tokens_d']"
   ]
  },
  {
   "cell_type": "code",
   "execution_count": 3,
   "metadata": {
    "ExecuteTime": {
     "end_time": "2019-12-18T17:07:40.737747Z",
     "start_time": "2019-12-18T17:07:40.711199Z"
    }
   },
   "outputs": [
    {
     "data": {
      "text/plain": [
       "torch.Size([10681, 39])"
      ]
     },
     "execution_count": 3,
     "metadata": {},
     "output_type": "execute_result"
    }
   ],
   "source": [
    "index_item_matrix.shape"
   ]
  },
  {
   "cell_type": "code",
   "execution_count": 4,
   "metadata": {
    "ExecuteTime": {
     "end_time": "2019-12-18T17:07:40.765015Z",
     "start_time": "2019-12-18T17:07:40.740064Z"
    }
   },
   "outputs": [
    {
     "data": {
      "text/plain": [
       "torch.Size([10701, 300])"
      ]
     },
     "execution_count": 4,
     "metadata": {},
     "output_type": "execute_result"
    }
   ],
   "source": [
    "n_items = index_item_matrix.shape[0]\n",
    "embedding_matrix.shape"
   ]
  },
  {
   "cell_type": "code",
   "execution_count": 5,
   "metadata": {
    "ExecuteTime": {
     "end_time": "2019-12-18T17:07:40.792751Z",
     "start_time": "2019-12-18T17:07:40.766309Z"
    }
   },
   "outputs": [
    {
     "data": {
      "text/plain": [
       "10681"
      ]
     },
     "execution_count": 5,
     "metadata": {},
     "output_type": "execute_result"
    }
   ],
   "source": [
    "n_items"
   ]
  },
  {
   "cell_type": "markdown",
   "metadata": {},
   "source": [
    "## Ratings"
   ]
  },
  {
   "cell_type": "code",
   "execution_count": 6,
   "metadata": {
    "ExecuteTime": {
     "end_time": "2019-12-18T17:09:09.880414Z",
     "start_time": "2019-12-18T17:07:40.794347Z"
    }
   },
   "outputs": [],
   "source": [
    "PID = \"spike-sandbox\"\n",
    "\n",
    "query = \"\"\"\n",
    "SELECT *\n",
    "FROM EVIC.ratings\n",
    "\"\"\"\n",
    "ratings = pd.read_gbq(query, project_id=PID, use_bqstorage_api=True)"
   ]
  },
  {
   "cell_type": "code",
   "execution_count": 7,
   "metadata": {
    "ExecuteTime": {
     "end_time": "2019-12-18T17:09:09.923484Z",
     "start_time": "2019-12-18T17:09:09.882026Z"
    }
   },
   "outputs": [
    {
     "data": {
      "text/html": [
       "<div>\n",
       "<style scoped>\n",
       "    .dataframe tbody tr th:only-of-type {\n",
       "        vertical-align: middle;\n",
       "    }\n",
       "\n",
       "    .dataframe tbody tr th {\n",
       "        vertical-align: top;\n",
       "    }\n",
       "\n",
       "    .dataframe thead th {\n",
       "        text-align: right;\n",
       "    }\n",
       "</style>\n",
       "<table border=\"1\" class=\"dataframe\">\n",
       "  <thead>\n",
       "    <tr style=\"text-align: right;\">\n",
       "      <th></th>\n",
       "      <th>user_id</th>\n",
       "      <th>movie_id</th>\n",
       "      <th>rating</th>\n",
       "    </tr>\n",
       "  </thead>\n",
       "  <tbody>\n",
       "    <tr>\n",
       "      <th>0</th>\n",
       "      <td>6</td>\n",
       "      <td>4369</td>\n",
       "      <td>2.0</td>\n",
       "    </tr>\n",
       "    <tr>\n",
       "      <th>1</th>\n",
       "      <td>8</td>\n",
       "      <td>4992</td>\n",
       "      <td>2.0</td>\n",
       "    </tr>\n",
       "    <tr>\n",
       "      <th>2</th>\n",
       "      <td>8</td>\n",
       "      <td>5609</td>\n",
       "      <td>2.0</td>\n",
       "    </tr>\n",
       "    <tr>\n",
       "      <th>3</th>\n",
       "      <td>8</td>\n",
       "      <td>5833</td>\n",
       "      <td>2.0</td>\n",
       "    </tr>\n",
       "    <tr>\n",
       "      <th>4</th>\n",
       "      <td>12</td>\n",
       "      <td>3593</td>\n",
       "      <td>2.0</td>\n",
       "    </tr>\n",
       "  </tbody>\n",
       "</table>\n",
       "</div>"
      ],
      "text/plain": [
       "   user_id  movie_id  rating\n",
       "0        6      4369     2.0\n",
       "1        8      4992     2.0\n",
       "2        8      5609     2.0\n",
       "3        8      5833     2.0\n",
       "4       12      3593     2.0"
      ]
     },
     "execution_count": 7,
     "metadata": {},
     "output_type": "execute_result"
    }
   ],
   "source": [
    "ratings.head()"
   ]
  },
  {
   "cell_type": "code",
   "execution_count": 8,
   "metadata": {
    "ExecuteTime": {
     "end_time": "2019-12-18T17:09:10.026103Z",
     "start_time": "2019-12-18T17:09:09.927172Z"
    }
   },
   "outputs": [
    {
     "name": "stdout",
     "output_type": "stream",
     "text": [
      "69878\n"
     ]
    }
   ],
   "source": [
    "n_users = ratings.user_id.nunique()\n",
    "print(n_users)"
   ]
  },
  {
   "cell_type": "code",
   "execution_count": 9,
   "metadata": {
    "ExecuteTime": {
     "end_time": "2019-12-18T17:09:10.528980Z",
     "start_time": "2019-12-18T17:09:10.029162Z"
    }
   },
   "outputs": [
    {
     "data": {
      "text/plain": [
       "<matplotlib.axes._subplots.AxesSubplot at 0x12ae8be80>"
      ]
     },
     "execution_count": 9,
     "metadata": {},
     "output_type": "execute_result"
    },
    {
     "data": {
      "image/png": "[encoded data removed]",
      "text/plain": [
       "<Figure size 432x288 with 1 Axes>"
      ]
     },
     "metadata": {
      "needs_background": "light"
     },
     "output_type": "display_data"
    }
   ],
   "source": [
    "ratings.rating.hist(bins=30)"
   ]
  },
  {
   "cell_type": "markdown",
   "metadata": {},
   "source": [
    "## Generar índices de peliculas y usuarios"
   ]
  },
  {
   "cell_type": "code",
   "execution_count": 10,
   "metadata": {
    "ExecuteTime": {
     "end_time": "2019-12-18T17:09:11.836239Z",
     "start_time": "2019-12-18T17:09:10.530427Z"
    }
   },
   "outputs": [],
   "source": [
    "ratings['movie_id'] = ratings['movie_id'].astype(\"category\")\n",
    "ratings['movie_idx'] = ratings['movie_id'].cat.codes\n",
    "\n",
    "movie_dict = pd.concat([ratings['movie_id'], ratings['movie_idx']], axis=1)\n",
    "movie_dict.rename(columns={0: 'id'}, inplace=True)\n",
    "\n",
    "movie_dict = movie_dict.drop_duplicates().sort_values(by='movie_idx')\n",
    "movie_dict.set_index('movie_idx', inplace=True)\n",
    "\n",
    "ratings['user_id'] = ratings['user_id'].astype(\"category\")\n",
    "ratings['user_idx'] = ratings['user_id'].cat.codes\n",
    "\n",
    "user_dict = pd.concat([ratings['user_id'], ratings['user_idx']], axis=1)\n",
    "user_dict.rename(columns={0: 'id'}, inplace=True)\n",
    "\n",
    "user_dict = user_dict.drop_duplicates().sort_values(by='user_idx')\n",
    "user_dict.set_index('user_idx', inplace=True)"
   ]
  },
  {
   "cell_type": "code",
   "execution_count": 11,
   "metadata": {
    "ExecuteTime": {
     "end_time": "2019-12-18T17:09:11.882859Z",
     "start_time": "2019-12-18T17:09:11.838341Z"
    }
   },
   "outputs": [
    {
     "data": {
      "text/html": [
       "<div>\n",
       "<style scoped>\n",
       "    .dataframe tbody tr th:only-of-type {\n",
       "        vertical-align: middle;\n",
       "    }\n",
       "\n",
       "    .dataframe tbody tr th {\n",
       "        vertical-align: top;\n",
       "    }\n",
       "\n",
       "    .dataframe thead th {\n",
       "        text-align: right;\n",
       "    }\n",
       "</style>\n",
       "<table border=\"1\" class=\"dataframe\">\n",
       "  <thead>\n",
       "    <tr style=\"text-align: right;\">\n",
       "      <th></th>\n",
       "      <th>user_id</th>\n",
       "      <th>movie_id</th>\n",
       "      <th>rating</th>\n",
       "      <th>movie_idx</th>\n",
       "      <th>user_idx</th>\n",
       "    </tr>\n",
       "  </thead>\n",
       "  <tbody>\n",
       "    <tr>\n",
       "      <th>0</th>\n",
       "      <td>6</td>\n",
       "      <td>4369</td>\n",
       "      <td>2.0</td>\n",
       "      <td>4276</td>\n",
       "      <td>5</td>\n",
       "    </tr>\n",
       "    <tr>\n",
       "      <th>1</th>\n",
       "      <td>8</td>\n",
       "      <td>4992</td>\n",
       "      <td>2.0</td>\n",
       "      <td>4898</td>\n",
       "      <td>7</td>\n",
       "    </tr>\n",
       "    <tr>\n",
       "      <th>2</th>\n",
       "      <td>8</td>\n",
       "      <td>5609</td>\n",
       "      <td>2.0</td>\n",
       "      <td>5511</td>\n",
       "      <td>7</td>\n",
       "    </tr>\n",
       "    <tr>\n",
       "      <th>3</th>\n",
       "      <td>8</td>\n",
       "      <td>5833</td>\n",
       "      <td>2.0</td>\n",
       "      <td>5735</td>\n",
       "      <td>7</td>\n",
       "    </tr>\n",
       "    <tr>\n",
       "      <th>4</th>\n",
       "      <td>12</td>\n",
       "      <td>3593</td>\n",
       "      <td>2.0</td>\n",
       "      <td>3504</td>\n",
       "      <td>11</td>\n",
       "    </tr>\n",
       "  </tbody>\n",
       "</table>\n",
       "</div>"
      ],
      "text/plain": [
       "  user_id movie_id  rating  movie_idx  user_idx\n",
       "0       6     4369     2.0       4276         5\n",
       "1       8     4992     2.0       4898         7\n",
       "2       8     5609     2.0       5511         7\n",
       "3       8     5833     2.0       5735         7\n",
       "4      12     3593     2.0       3504        11"
      ]
     },
     "execution_count": 11,
     "metadata": {},
     "output_type": "execute_result"
    }
   ],
   "source": [
    "ratings.head()"
   ]
  },
  {
   "cell_type": "markdown",
   "metadata": {},
   "source": [
    "## Generar preference"
   ]
  },
  {
   "cell_type": "code",
   "execution_count": 12,
   "metadata": {
    "ExecuteTime": {
     "end_time": "2019-12-18T17:09:38.313741Z",
     "start_time": "2019-12-18T17:09:11.884350Z"
    }
   },
   "outputs": [],
   "source": [
    "ratings_matrix = pd.pivot_table(ratings, index='movie_idx', columns='user_idx', values='rating')"
   ]
  },
  {
   "cell_type": "code",
   "execution_count": 13,
   "metadata": {
    "ExecuteTime": {
     "end_time": "2019-12-18T17:09:40.819994Z",
     "start_time": "2019-12-18T17:09:38.318324Z"
    }
   },
   "outputs": [
    {
     "name": "stdout",
     "output_type": "stream",
     "text": [
      "sparcity = 98.66%\n"
     ]
    }
   ],
   "source": [
    "sparcity = round(100 * ratings_matrix.isna().sum().sum() / ratings_matrix.size, 2)\n",
    "print(f'sparcity = {sparcity}%')"
   ]
  },
  {
   "cell_type": "code",
   "execution_count": 14,
   "metadata": {
    "ExecuteTime": {
     "end_time": "2019-12-18T17:10:07.707526Z",
     "start_time": "2019-12-18T17:09:40.821912Z"
    }
   },
   "outputs": [],
   "source": [
    "ratings_matrix = ratings_matrix.fillna(0)"
   ]
  },
  {
   "cell_type": "code",
   "execution_count": 15,
   "metadata": {
    "ExecuteTime": {
     "end_time": "2019-12-18T17:12:14.598428Z",
     "start_time": "2019-12-18T17:10:07.711980Z"
    }
   },
   "outputs": [
    {
     "data": {
      "text/html": [
       "<div>\n",
       "<style scoped>\n",
       "    .dataframe tbody tr th:only-of-type {\n",
       "        vertical-align: middle;\n",
       "    }\n",
       "\n",
       "    .dataframe tbody tr th {\n",
       "        vertical-align: top;\n",
       "    }\n",
       "\n",
       "    .dataframe thead th {\n",
       "        text-align: right;\n",
       "    }\n",
       "</style>\n",
       "<table border=\"1\" class=\"dataframe\">\n",
       "  <thead>\n",
       "    <tr style=\"text-align: right;\">\n",
       "      <th></th>\n",
       "      <th>user_idx</th>\n",
       "      <th>movie_idx</th>\n",
       "      <th>rating</th>\n",
       "      <th>preference</th>\n",
       "    </tr>\n",
       "  </thead>\n",
       "  <tbody>\n",
       "    <tr>\n",
       "      <th>0</th>\n",
       "      <td>0</td>\n",
       "      <td>0</td>\n",
       "      <td>0.0</td>\n",
       "      <td>0</td>\n",
       "    </tr>\n",
       "    <tr>\n",
       "      <th>1</th>\n",
       "      <td>0</td>\n",
       "      <td>1</td>\n",
       "      <td>0.0</td>\n",
       "      <td>0</td>\n",
       "    </tr>\n",
       "    <tr>\n",
       "      <th>2</th>\n",
       "      <td>0</td>\n",
       "      <td>2</td>\n",
       "      <td>0.0</td>\n",
       "      <td>0</td>\n",
       "    </tr>\n",
       "    <tr>\n",
       "      <th>3</th>\n",
       "      <td>0</td>\n",
       "      <td>3</td>\n",
       "      <td>0.0</td>\n",
       "      <td>0</td>\n",
       "    </tr>\n",
       "    <tr>\n",
       "      <th>4</th>\n",
       "      <td>0</td>\n",
       "      <td>4</td>\n",
       "      <td>0.0</td>\n",
       "      <td>0</td>\n",
       "    </tr>\n",
       "  </tbody>\n",
       "</table>\n",
       "</div>"
      ],
      "text/plain": [
       "   user_idx  movie_idx  rating  preference\n",
       "0         0          0     0.0           0\n",
       "1         0          1     0.0           0\n",
       "2         0          2     0.0           0\n",
       "3         0          3     0.0           0\n",
       "4         0          4     0.0           0"
      ]
     },
     "execution_count": 15,
     "metadata": {},
     "output_type": "execute_result"
    }
   ],
   "source": [
    "rating_thresh = 3.5\n",
    "\n",
    "ratings_full = ratings_matrix.unstack().to_frame('rating').reset_index()\n",
    "ratings_full['preference'] = ratings_full.eval(f'(rating >= {rating_thresh})').astype('int')\n",
    "\n",
    "#extraer tensores \n",
    "movie_idx = torch.LongTensor(ratings_full['movie_idx'].values)\n",
    "user_idx = torch.LongTensor(ratings_full['user_idx'].values)\n",
    "cofidence = torch.Tensor(ratings_full['rating'].values)\n",
    "preference = torch.Tensor(ratings_full['preference'].values)\n",
    "\n",
    "ratings_full.head()"
   ]
  },
  {
   "cell_type": "code",
   "execution_count": 16,
   "metadata": {
    "ExecuteTime": {
     "end_time": "2019-12-18T17:12:14.700331Z",
     "start_time": "2019-12-18T17:12:14.604348Z"
    }
   },
   "outputs": [],
   "source": [
    "nsamples = 1000\n",
    "#ratings_full[['rating', 'preference']].sample(nsamples).hist(bins=20, figsize=(10, 5));"
   ]
  },
  {
   "cell_type": "markdown",
   "metadata": {},
   "source": [
    "# Modelo"
   ]
  },
  {
   "cell_type": "markdown",
   "metadata": {},
   "source": [
    "## Definir modelo"
   ]
  },
  {
   "cell_type": "code",
   "execution_count": 17,
   "metadata": {
    "ExecuteTime": {
     "end_time": "2019-12-18T17:12:14.760907Z",
     "start_time": "2019-12-18T17:12:14.702775Z"
    }
   },
   "outputs": [],
   "source": [
    "def trunc_normal_(x, mean=0, std=1.):\n",
    "    \"Truncated normal initialization.\"\n",
    "    # From https://discuss.pytorch.org/t/implementing-truncated-normal-initializer/4778/12\n",
    "    return x.normal_().fmod_(2).mul_(std).add_(mean)\n",
    "\n",
    "def embedding(ni:int,nf:int):\n",
    "    \"Create an embedding layer.\"\n",
    "    emb = nn.Embedding(ni, nf)\n",
    "    # See https://arxiv.org/abs/1711.09160\n",
    "    with torch.no_grad(): trunc_normal_(emb.weight, std=0.01)\n",
    "    return emb\n",
    "\n",
    "class EmbeddingDotBias(nn.Module):\n",
    "    \"Base dot model for collaborative filtering.\"\n",
    "    def __init__(self, n_users_factors, \n",
    "                 n_users, n_items, index_item_matrix, embedding_matrix, y_range=None):\n",
    "        super().__init__()\n",
    "        self.y_range = y_range\n",
    "        #generar embedings de usuarios y bias de usuarios e items\n",
    "        (self.u_weight, self.u_bias, self.i_bias) = [embedding(*o) for o in [\n",
    "            (n_users, n_users_factors), (n_users, 1), (n_items, 1)]]\n",
    "        \n",
    "        self.index_item_matrix = index_item_matrix # N_glosas x Largo_maximo_glosas \n",
    "        self.embedding_matrix = embedding_matrix # (N_palabras + 1) x N_latentes\n",
    "        \n",
    "        self.largo_max_glosas = index_item_matrix.shape[1]\n",
    "        self.n_latent = embedding_matrix.shape[1]\n",
    "        #https://pytorch.org/docs/stable/nn.html#torch.nn.Conv1d\n",
    "        kernel_size = self.largo_max_glosas * self.n_latent - n_users_factors + 1\n",
    "        self.conv = torch.nn.Conv1d(1, 1, kernel_size=kernel_size)\n",
    "\n",
    "    def forward(self, users, items):\n",
    "        idx_items = self.index_item_matrix[items] #indices de palabras en las glosas Nitems x Largo_max\n",
    "        i_weights_full = self.embedding_matrix[idx_items] #latentes de glosas\n",
    "        i_weight = self.conv(i_weights_full.reshape((len(items), 1, -1))).squeeze()\n",
    "        dot = self.u_weight(users) * i_weight\n",
    "        res = dot.sum(1) + self.u_bias(users).squeeze() + self.i_bias(items).squeeze()\n",
    "        if self.y_range is None: return res\n",
    "        return torch.sigmoid(res) * (self.y_range[1]-self.y_range[0]) + self.y_range[0]"
   ]
  },
  {
   "cell_type": "markdown",
   "metadata": {},
   "source": [
    "## Inicializar"
   ]
  },
  {
   "cell_type": "code",
   "execution_count": 18,
   "metadata": {
    "ExecuteTime": {
     "end_time": "2019-12-18T17:12:14.895730Z",
     "start_time": "2019-12-18T17:12:14.764627Z"
    }
   },
   "outputs": [],
   "source": [
    "n_users_factors = 30\n",
    "model = EmbeddingDotBias(n_users_factors, n_users, n_items, \n",
    "                         index_item_matrix, embedding_matrix, \n",
    "                         y_range=[-.01, 1.01])"
   ]
  },
  {
   "cell_type": "code",
   "execution_count": 19,
   "metadata": {
    "ExecuteTime": {
     "end_time": "2019-12-18T17:12:14.941974Z",
     "start_time": "2019-12-18T17:12:14.898872Z"
    }
   },
   "outputs": [
    {
     "data": {
      "text/plain": [
       "EmbeddingDotBias(\n",
       "  (u_weight): Embedding(69878, 30)\n",
       "  (u_bias): Embedding(69878, 1)\n",
       "  (i_bias): Embedding(10681, 1)\n",
       "  (conv): Conv1d(1, 1, kernel_size=(11671,), stride=(1,))\n",
       ")"
      ]
     },
     "execution_count": 19,
     "metadata": {},
     "output_type": "execute_result"
    }
   ],
   "source": [
    "model"
   ]
  },
  {
   "cell_type": "code",
   "execution_count": 20,
   "metadata": {
    "ExecuteTime": {
     "end_time": "2019-12-18T17:12:14.980038Z",
     "start_time": "2019-12-18T17:12:14.944377Z"
    }
   },
   "outputs": [
    {
     "data": {
      "text/plain": [
       "[('u_weight.weight', torch.Size([69878, 30])),\n",
       " ('u_bias.weight', torch.Size([69878, 1])),\n",
       " ('i_bias.weight', torch.Size([10681, 1])),\n",
       " ('conv.weight', torch.Size([1, 1, 11671])),\n",
       " ('conv.bias', torch.Size([1]))]"
      ]
     },
     "execution_count": 20,
     "metadata": {},
     "output_type": "execute_result"
    }
   ],
   "source": [
    "[(x[0], x[1].shape) for x in model.named_parameters()]"
   ]
  },
  {
   "cell_type": "markdown",
   "metadata": {},
   "source": [
    "## Entrenar"
   ]
  },
  {
   "cell_type": "code",
   "execution_count": 51,
   "metadata": {
    "ExecuteTime": {
     "end_time": "2019-12-18T17:38:13.887235Z",
     "start_time": "2019-12-18T17:38:09.384602Z"
    }
   },
   "outputs": [],
   "source": [
    "optimizer = torch.optim.Adam(model.parameters(), \n",
    "                            lr=1e-4)#, weight_decay=1e-5)#Con regularización\n",
    "bs = 10\n",
    "alpha = torch.Tensor(10)\n",
    "\n",
    "idx_batchs = np.arange(0, len(ratings_full), bs)\n",
    "np.random.shuffle(idx_batchs)"
   ]
  },
  {
   "cell_type": "code",
   "execution_count": 53,
   "metadata": {
    "ExecuteTime": {
     "end_time": "2019-12-18T17:42:10.961539Z",
     "start_time": "2019-12-18T17:38:20.320119Z"
    }
   },
   "outputs": [
    {
     "name": "stderr",
     "output_type": "stream",
     "text": [
      "/Users/camiloiturracisternas/miniconda3/envs/spike_basicoV5/lib/python3.6/site-packages/ipykernel_launcher.py:3: TqdmDeprecationWarning: This function will be removed in tqdm==5.0.0\n",
      "Please use `tqdm.notebook.tqdm` instead of `tqdm.tqdm_notebook`\n",
      "  This is separate from the ipykernel package so we can avoid doing imports until\n"
     ]
    },
    {
     "data": {
      "application/vnd.jupyter.widget-view+json": {
       "model_id": "c2aa41cc4b664eb48834522cb2ec0bfe",
       "version_major": 2,
       "version_minor": 0
      },
      "text/plain": [
       "HBox(children=(IntProgress(value=0, max=10000), HTML(value='')))"
      ]
     },
     "metadata": {},
     "output_type": "display_data"
    },
    {
     "name": "stdout",
     "output_type": "stream",
     "text": [
      "\n"
     ]
    }
   ],
   "source": [
    "losses = []\n",
    "\n",
    "for i in progress_bar(idx_batchs[:10000]):\n",
    "    \n",
    "    \n",
    "    users = user_idx[idxs]\n",
    "    items = movie_idx[idxs]\n",
    "    p = preference[idxs]\n",
    "    c = cofidence[idxs]\n",
    "\n",
    "    prediction = model(users, items)\n",
    "    loss = ((1+alpha*c)*(prediction - p)**2).mean()\n",
    "    \n",
    "    loss.backward()\n",
    "    optimizer.step()\n",
    "    optimizer.zero_grad()\n",
    "    \n",
    "    losses += [loss]"
   ]
  },
  {
   "cell_type": "code",
   "execution_count": 54,
   "metadata": {
    "ExecuteTime": {
     "end_time": "2019-12-18T17:42:13.717932Z",
     "start_time": "2019-12-18T17:42:13.505886Z"
    }
   },
   "outputs": [
    {
     "data": {
      "text/plain": [
       "[<matplotlib.lines.Line2D at 0x12ba06438>]"
      ]
     },
     "execution_count": 54,
     "metadata": {},
     "output_type": "execute_result"
    },
    {
     "data": {
      "image/png": "[encoded data removed]",
      "text/plain": [
       "<Figure size 432x288 with 1 Axes>"
      ]
     },
     "metadata": {
      "needs_background": "light"
     },
     "output_type": "display_data"
    }
   ],
   "source": [
    "plt.plot(np.array([x.detach().numpy() for x in losses]))"
   ]
  }
 ],
 "metadata": {
  "kernelspec": {
   "display_name": "Python [conda env:spike_basicoV5] *",
   "language": "python",
   "name": "conda-env-spike_basicoV5-py"
  },
  "language_info": {
   "codemirror_mode": {
    "name": "ipython",
    "version": 3
   },
   "file_extension": ".py",
   "mimetype": "text/x-python",
   "name": "python",
   "nbconvert_exporter": "python",
   "pygments_lexer": "ipython3",
   "version": "3.6.7"
  },
  "toc": {
   "base_numbering": 1,
   "nav_menu": {},
   "number_sections": true,
   "sideBar": true,
   "skip_h1_title": false,
   "title_cell": "Table of Contents",
   "title_sidebar": "Contents",
   "toc_cell": false,
   "toc_position": {
    "height": "calc(100% - 180px)",
    "left": "10px",
    "top": "150px",
    "width": "305.455px"
   },
   "toc_section_display": true,
   "toc_window_display": true
  }
 },
 "nbformat": 4,
 "nbformat_minor": 2
}
