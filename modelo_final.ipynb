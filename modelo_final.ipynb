{
 "cells": [
  {
   "cell_type": "code",
   "execution_count": 1,
   "metadata": {
    "ExecuteTime": {
     "end_time": "2019-12-18T17:31:59.187273Z",
     "start_time": "2019-12-18T17:31:59.137047Z"
    }
   },
   "outputs": [],
   "source": [
    "%matplotlib inline\n",
    "%load_ext autoreload\n",
    "%autoreload 2\n",
    "\n",
    "import torch\n",
    "from torch import nn\n",
    "import numpy as np\n",
    "import pickle\n",
    "import pandas as pd\n",
    "import tqdm.notebook as progress_bar\n",
    "from matplotlib import pyplot as plt"
   ]
  },
  {
   "cell_type": "markdown",
   "metadata": {},
   "source": [
    "# Cargar datos"
   ]
  },
  {
   "cell_type": "markdown",
   "metadata": {},
   "source": [
    "## Embeddings"
   ]
  },
  {
   "cell_type": "code",
   "execution_count": 2,
   "metadata": {
    "ExecuteTime": {
     "end_time": "2019-12-18T17:07:40.708698Z",
     "start_time": "2019-12-18T17:07:40.646642Z"
    }
   },
   "outputs": [],
   "source": [
    "with open('data/index_item_and_embedding_matrix_dict.pickle', 'rb') as f:\n",
    "    index_emb_dict = pickle.load(f)\n",
    "\n",
    "index_item_matrix = torch.LongTensor(index_emb_dict['index_item_matrix'])\n",
    "embedding_matrix = torch.Tensor(index_emb_dict['embedding_matrix'])\n",
    "unique_tokens_d = index_emb_dict['unique_tokens_d']"
   ]
  },
  {
   "cell_type": "code",
   "execution_count": 3,
   "metadata": {},
   "outputs": [
    {
     "data": {
      "text/plain": [
       "['Toy', 'Story', '(', '1995', ')']"
      ]
     },
     "execution_count": 3,
     "metadata": {},
     "output_type": "execute_result"
    }
   ],
   "source": [
    "list(unique_tokens_d.keys())[0:5]"
   ]
  },
  {
   "cell_type": "code",
   "execution_count": 4,
   "metadata": {},
   "outputs": [
    {
     "data": {
      "text/plain": [
       "tensor([[    0,     1,     2,  ..., 10700, 10700, 10700],\n",
       "        [    6,     2,     3,  ..., 10700, 10700, 10700],\n",
       "        [    7,     8,     9,  ..., 10700, 10700, 10700],\n",
       "        ...,\n",
       "        [10696,     2, 10129,  ..., 10700, 10700, 10700],\n",
       "        [10697,  1020,     2,  ..., 10700, 10700, 10700],\n",
       "        [10698,  2080,   423,  ..., 10700, 10700, 10700]])"
      ]
     },
     "execution_count": 4,
     "metadata": {},
     "output_type": "execute_result"
    }
   ],
   "source": [
    "#Debiese estar ordenada del movie_id más chico al más grande\n",
    "index_item_matrix"
   ]
  },
  {
   "cell_type": "code",
   "execution_count": 5,
   "metadata": {
    "ExecuteTime": {
     "end_time": "2019-12-18T17:07:40.765015Z",
     "start_time": "2019-12-18T17:07:40.740064Z"
    }
   },
   "outputs": [
    {
     "data": {
      "text/plain": [
       "torch.Size([10701, 300])"
      ]
     },
     "execution_count": 5,
     "metadata": {},
     "output_type": "execute_result"
    }
   ],
   "source": [
    "n_items = index_item_matrix.shape[0]\n",
    "embedding_matrix.shape"
   ]
  },
  {
   "cell_type": "code",
   "execution_count": 7,
   "metadata": {
    "ExecuteTime": {
     "end_time": "2019-12-18T17:07:40.792751Z",
     "start_time": "2019-12-18T17:07:40.766309Z"
    }
   },
   "outputs": [
    {
     "data": {
      "text/plain": [
       "10681"
      ]
     },
     "execution_count": 7,
     "metadata": {},
     "output_type": "execute_result"
    }
   ],
   "source": [
    "n_items"
   ]
  },
  {
   "cell_type": "markdown",
   "metadata": {},
   "source": [
    "## Ratings"
   ]
  },
  {
   "cell_type": "code",
   "execution_count": 8,
   "metadata": {
    "ExecuteTime": {
     "end_time": "2019-12-18T17:09:09.880414Z",
     "start_time": "2019-12-18T17:07:40.794347Z"
    }
   },
   "outputs": [],
   "source": [
    "PID = \"spike-sandbox\"\n",
    "\n",
    "query = \"\"\"\n",
    "SELECT *\n",
    "FROM EVIC.ratings\n",
    "\"\"\"\n",
    "ratings = pd.read_gbq(query, project_id=PID, use_bqstorage_api=True)"
   ]
  },
  {
   "cell_type": "code",
   "execution_count": 12,
   "metadata": {
    "ExecuteTime": {
     "end_time": "2019-12-18T17:09:09.923484Z",
     "start_time": "2019-12-18T17:09:09.882026Z"
    }
   },
   "outputs": [
    {
     "data": {
      "text/html": [
       "<div>\n",
       "<style scoped>\n",
       "    .dataframe tbody tr th:only-of-type {\n",
       "        vertical-align: middle;\n",
       "    }\n",
       "\n",
       "    .dataframe tbody tr th {\n",
       "        vertical-align: top;\n",
       "    }\n",
       "\n",
       "    .dataframe thead th {\n",
       "        text-align: right;\n",
       "    }\n",
       "</style>\n",
       "<table border=\"1\" class=\"dataframe\">\n",
       "  <thead>\n",
       "    <tr style=\"text-align: right;\">\n",
       "      <th></th>\n",
       "      <th>user_id</th>\n",
       "      <th>movie_id</th>\n",
       "      <th>rating</th>\n",
       "    </tr>\n",
       "  </thead>\n",
       "  <tbody>\n",
       "    <tr>\n",
       "      <td>0</td>\n",
       "      <td>2</td>\n",
       "      <td>648</td>\n",
       "      <td>2.0</td>\n",
       "    </tr>\n",
       "    <tr>\n",
       "      <td>1</td>\n",
       "      <td>2</td>\n",
       "      <td>802</td>\n",
       "      <td>2.0</td>\n",
       "    </tr>\n",
       "    <tr>\n",
       "      <td>2</td>\n",
       "      <td>2</td>\n",
       "      <td>858</td>\n",
       "      <td>2.0</td>\n",
       "    </tr>\n",
       "    <tr>\n",
       "      <td>3</td>\n",
       "      <td>3</td>\n",
       "      <td>1552</td>\n",
       "      <td>2.0</td>\n",
       "    </tr>\n",
       "    <tr>\n",
       "      <td>4</td>\n",
       "      <td>3</td>\n",
       "      <td>5505</td>\n",
       "      <td>2.0</td>\n",
       "    </tr>\n",
       "  </tbody>\n",
       "</table>\n",
       "</div>"
      ],
      "text/plain": [
       "   user_id  movie_id  rating\n",
       "0        2       648     2.0\n",
       "1        2       802     2.0\n",
       "2        2       858     2.0\n",
       "3        3      1552     2.0\n",
       "4        3      5505     2.0"
      ]
     },
     "execution_count": 12,
     "metadata": {},
     "output_type": "execute_result"
    }
   ],
   "source": [
    "ratings.head()"
   ]
  },
  {
   "cell_type": "code",
   "execution_count": 11,
   "metadata": {
    "ExecuteTime": {
     "end_time": "2019-12-18T17:09:10.026103Z",
     "start_time": "2019-12-18T17:09:09.927172Z"
    }
   },
   "outputs": [
    {
     "name": "stdout",
     "output_type": "stream",
     "text": [
      "69878\n"
     ]
    }
   ],
   "source": [
    "n_users = ratings.user_id.nunique()\n",
    "print(n_users)"
   ]
  },
  {
   "cell_type": "code",
   "execution_count": 9,
   "metadata": {
    "ExecuteTime": {
     "end_time": "2019-12-18T17:09:10.528980Z",
     "start_time": "2019-12-18T17:09:10.029162Z"
    }
   },
   "outputs": [
    {
     "data": {
      "text/plain": [
       "<matplotlib.axes._subplots.AxesSubplot at 0x12ae8be80>"
      ]
     },
     "execution_count": 9,
     "metadata": {},
     "output_type": "execute_result"
    },
    {
     "data": {
      "image/png": "[encoded data removed]",
      "text/plain": [
       "<Figure size 432x288 with 1 Axes>"
      ]
     },
     "metadata": {
      "needs_background": "light"
     },
     "output_type": "display_data"
    }
   ],
   "source": [
    "ratings.rating.hist(bins=30)"
   ]
  },
  {
   "cell_type": "markdown",
   "metadata": {},
   "source": [
    "## Generar índices de peliculas y usuarios"
   ]
  },
  {
   "cell_type": "code",
   "execution_count": 13,
   "metadata": {
    "ExecuteTime": {
     "end_time": "2019-12-18T17:09:11.836239Z",
     "start_time": "2019-12-18T17:09:10.530427Z"
    }
   },
   "outputs": [],
   "source": [
    "ratings['movie_id'] = ratings['movie_id'].astype(\"category\")\n",
    "ratings['movie_idx'] = ratings['movie_id'].cat.codes\n",
    "\n",
    "movie_dict = pd.concat([ratings['movie_id'], ratings['movie_idx']], axis=1)\n",
    "movie_dict.rename(columns={0: 'id'}, inplace=True)\n",
    "\n",
    "movie_dict = movie_dict.drop_duplicates().sort_values(by='movie_idx')\n",
    "movie_dict.set_index('movie_idx', inplace=True)\n",
    "\n",
    "ratings['user_id'] = ratings['user_id'].astype(\"category\")\n",
    "ratings['user_idx'] = ratings['user_id'].cat.codes\n",
    "\n",
    "user_dict = pd.concat([ratings['user_id'], ratings['user_idx']], axis=1)\n",
    "user_dict.rename(columns={0: 'id'}, inplace=True)\n",
    "\n",
    "user_dict = user_dict.drop_duplicates().sort_values(by='user_idx')\n",
    "user_dict.set_index('user_idx', inplace=True)"
   ]
  },
  {
   "cell_type": "code",
   "execution_count": 14,
   "metadata": {},
   "outputs": [
    {
     "data": {
      "text/html": [
       "<div>\n",
       "<style scoped>\n",
       "    .dataframe tbody tr th:only-of-type {\n",
       "        vertical-align: middle;\n",
       "    }\n",
       "\n",
       "    .dataframe tbody tr th {\n",
       "        vertical-align: top;\n",
       "    }\n",
       "\n",
       "    .dataframe thead th {\n",
       "        text-align: right;\n",
       "    }\n",
       "</style>\n",
       "<table border=\"1\" class=\"dataframe\">\n",
       "  <thead>\n",
       "    <tr style=\"text-align: right;\">\n",
       "      <th></th>\n",
       "      <th>user_id</th>\n",
       "      <th>movie_id</th>\n",
       "      <th>rating</th>\n",
       "      <th>movie_idx</th>\n",
       "      <th>user_idx</th>\n",
       "    </tr>\n",
       "  </thead>\n",
       "  <tbody>\n",
       "    <tr>\n",
       "      <td>0</td>\n",
       "      <td>2</td>\n",
       "      <td>648</td>\n",
       "      <td>2.0</td>\n",
       "      <td>640</td>\n",
       "      <td>1</td>\n",
       "    </tr>\n",
       "    <tr>\n",
       "      <td>1</td>\n",
       "      <td>2</td>\n",
       "      <td>802</td>\n",
       "      <td>2.0</td>\n",
       "      <td>789</td>\n",
       "      <td>1</td>\n",
       "    </tr>\n",
       "    <tr>\n",
       "      <td>2</td>\n",
       "      <td>2</td>\n",
       "      <td>858</td>\n",
       "      <td>2.0</td>\n",
       "      <td>843</td>\n",
       "      <td>1</td>\n",
       "    </tr>\n",
       "    <tr>\n",
       "      <td>3</td>\n",
       "      <td>3</td>\n",
       "      <td>1552</td>\n",
       "      <td>2.0</td>\n",
       "      <td>1502</td>\n",
       "      <td>2</td>\n",
       "    </tr>\n",
       "    <tr>\n",
       "      <td>4</td>\n",
       "      <td>3</td>\n",
       "      <td>5505</td>\n",
       "      <td>2.0</td>\n",
       "      <td>5409</td>\n",
       "      <td>2</td>\n",
       "    </tr>\n",
       "  </tbody>\n",
       "</table>\n",
       "</div>"
      ],
      "text/plain": [
       "  user_id movie_id  rating  movie_idx  user_idx\n",
       "0       2      648     2.0        640         1\n",
       "1       2      802     2.0        789         1\n",
       "2       2      858     2.0        843         1\n",
       "3       3     1552     2.0       1502         2\n",
       "4       3     5505     2.0       5409         2"
      ]
     },
     "execution_count": 14,
     "metadata": {},
     "output_type": "execute_result"
    }
   ],
   "source": [
    "ratings.head()"
   ]
  },
  {
   "cell_type": "code",
   "execution_count": 11,
   "metadata": {
    "ExecuteTime": {
     "end_time": "2019-12-18T17:09:11.882859Z",
     "start_time": "2019-12-18T17:09:11.838341Z"
    }
   },
   "outputs": [
    {
     "data": {
      "text/html": [
       "<div>\n",
       "<style scoped>\n",
       "    .dataframe tbody tr th:only-of-type {\n",
       "        vertical-align: middle;\n",
       "    }\n",
       "\n",
       "    .dataframe tbody tr th {\n",
       "        vertical-align: top;\n",
       "    }\n",
       "\n",
       "    .dataframe thead th {\n",
       "        text-align: right;\n",
       "    }\n",
       "</style>\n",
       "<table border=\"1\" class=\"dataframe\">\n",
       "  <thead>\n",
       "    <tr style=\"text-align: right;\">\n",
       "      <th></th>\n",
       "      <th>user_id</th>\n",
       "      <th>movie_id</th>\n",
       "      <th>rating</th>\n",
       "      <th>movie_idx</th>\n",
       "      <th>user_idx</th>\n",
       "    </tr>\n",
       "  </thead>\n",
       "  <tbody>\n",
       "    <tr>\n",
       "      <th>0</th>\n",
       "      <td>6</td>\n",
       "      <td>4369</td>\n",
       "      <td>2.0</td>\n",
       "      <td>4276</td>\n",
       "      <td>5</td>\n",
       "    </tr>\n",
       "    <tr>\n",
       "      <th>1</th>\n",
       "      <td>8</td>\n",
       "      <td>4992</td>\n",
       "      <td>2.0</td>\n",
       "      <td>4898</td>\n",
       "      <td>7</td>\n",
       "    </tr>\n",
       "    <tr>\n",
       "      <th>2</th>\n",
       "      <td>8</td>\n",
       "      <td>5609</td>\n",
       "      <td>2.0</td>\n",
       "      <td>5511</td>\n",
       "      <td>7</td>\n",
       "    </tr>\n",
       "    <tr>\n",
       "      <th>3</th>\n",
       "      <td>8</td>\n",
       "      <td>5833</td>\n",
       "      <td>2.0</td>\n",
       "      <td>5735</td>\n",
       "      <td>7</td>\n",
       "    </tr>\n",
       "    <tr>\n",
       "      <th>4</th>\n",
       "      <td>12</td>\n",
       "      <td>3593</td>\n",
       "      <td>2.0</td>\n",
       "      <td>3504</td>\n",
       "      <td>11</td>\n",
       "    </tr>\n",
       "  </tbody>\n",
       "</table>\n",
       "</div>"
      ],
      "text/plain": [
       "  user_id movie_id  rating  movie_idx  user_idx\n",
       "0       6     4369     2.0       4276         5\n",
       "1       8     4992     2.0       4898         7\n",
       "2       8     5609     2.0       5511         7\n",
       "3       8     5833     2.0       5735         7\n",
       "4      12     3593     2.0       3504        11"
      ]
     },
     "execution_count": 11,
     "metadata": {},
     "output_type": "execute_result"
    }
   ],
   "source": [
    "ratings.head()"
   ]
  },
  {
   "cell_type": "markdown",
   "metadata": {},
   "source": [
    "## Generar preference"
   ]
  },
  {
   "cell_type": "code",
   "execution_count": 15,
   "metadata": {
    "ExecuteTime": {
     "end_time": "2019-12-18T17:09:38.313741Z",
     "start_time": "2019-12-18T17:09:11.884350Z"
    }
   },
   "outputs": [],
   "source": [
    "ratings_matrix = pd.pivot_table(ratings, index='movie_idx', columns='user_idx', values='rating')"
   ]
  },
  {
   "cell_type": "code",
   "execution_count": 16,
   "metadata": {
    "ExecuteTime": {
     "end_time": "2019-12-18T17:09:40.819994Z",
     "start_time": "2019-12-18T17:09:38.318324Z"
    }
   },
   "outputs": [
    {
     "name": "stdout",
     "output_type": "stream",
     "text": [
      "sparcity = 98.66%\n"
     ]
    }
   ],
   "source": [
    "sparcity = round(100 * ratings_matrix.isna().sum().sum() / ratings_matrix.size, 2)\n",
    "print(f'sparcity = {sparcity}%')"
   ]
  },
  {
   "cell_type": "code",
   "execution_count": 17,
   "metadata": {
    "ExecuteTime": {
     "end_time": "2019-12-18T17:10:07.707526Z",
     "start_time": "2019-12-18T17:09:40.821912Z"
    }
   },
   "outputs": [],
   "source": [
    "ratings_matrix = ratings_matrix.fillna(0)"
   ]
  },
  {
   "cell_type": "code",
   "execution_count": 18,
   "metadata": {},
   "outputs": [
    {
     "data": {
      "text/html": [
       "<div>\n",
       "<style scoped>\n",
       "    .dataframe tbody tr th:only-of-type {\n",
       "        vertical-align: middle;\n",
       "    }\n",
       "\n",
       "    .dataframe tbody tr th {\n",
       "        vertical-align: top;\n",
       "    }\n",
       "\n",
       "    .dataframe thead th {\n",
       "        text-align: right;\n",
       "    }\n",
       "</style>\n",
       "<table border=\"1\" class=\"dataframe\">\n",
       "  <thead>\n",
       "    <tr style=\"text-align: right;\">\n",
       "      <th></th>\n",
       "      <th>user_idx</th>\n",
       "      <th>movie_idx</th>\n",
       "      <th>rating</th>\n",
       "      <th>preference</th>\n",
       "    </tr>\n",
       "  </thead>\n",
       "  <tbody>\n",
       "    <tr>\n",
       "      <td>0</td>\n",
       "      <td>0</td>\n",
       "      <td>0</td>\n",
       "      <td>0.0</td>\n",
       "      <td>0</td>\n",
       "    </tr>\n",
       "    <tr>\n",
       "      <td>1</td>\n",
       "      <td>0</td>\n",
       "      <td>1</td>\n",
       "      <td>0.0</td>\n",
       "      <td>0</td>\n",
       "    </tr>\n",
       "    <tr>\n",
       "      <td>2</td>\n",
       "      <td>0</td>\n",
       "      <td>2</td>\n",
       "      <td>0.0</td>\n",
       "      <td>0</td>\n",
       "    </tr>\n",
       "    <tr>\n",
       "      <td>3</td>\n",
       "      <td>0</td>\n",
       "      <td>3</td>\n",
       "      <td>0.0</td>\n",
       "      <td>0</td>\n",
       "    </tr>\n",
       "    <tr>\n",
       "      <td>4</td>\n",
       "      <td>0</td>\n",
       "      <td>4</td>\n",
       "      <td>0.0</td>\n",
       "      <td>0</td>\n",
       "    </tr>\n",
       "  </tbody>\n",
       "</table>\n",
       "</div>"
      ],
      "text/plain": [
       "   user_idx  movie_idx  rating  preference\n",
       "0         0          0     0.0           0\n",
       "1         0          1     0.0           0\n",
       "2         0          2     0.0           0\n",
       "3         0          3     0.0           0\n",
       "4         0          4     0.0           0"
      ]
     },
     "execution_count": 18,
     "metadata": {},
     "output_type": "execute_result"
    }
   ],
   "source": [
    "def confidence_f(x):\n",
    "    \"\"\"\n",
    "    Maps actual rating to confidence\n",
    "    \"\"\"\n",
    "    return x*np.e**(x**1.2)\n",
    "\n",
    "\n",
    "rating_thresh = 3.5\n",
    "\n",
    "ratings_full = ratings_matrix.unstack().to_frame('rating').reset_index()\n",
    "#Eliminate lukewarm reviews:   rating_thresh - 1   <  x  < rating_thresh\n",
    "ratings_full = ratings_full[~(  (ratings_full.rating < rating_thresh) & (ratings_full.rating >= rating_thresh - 1) )]\n",
    "\n",
    "ratings_full['preference'] = ratings_full.eval(f'(rating >= {rating_thresh})').astype('int')\n",
    "\n",
    "#extract tensors\n",
    "movie_idx = torch.LongTensor(ratings_full['movie_idx'].values)\n",
    "user_idx = torch.LongTensor(ratings_full['user_idx'].values)\n",
    "\n",
    "confidence = torch.Tensor(confidence_f(ratings_full['rating'].values))\n",
    "preference = torch.Tensor(ratings_full['preference'].values)\n",
    "\n",
    "ratings_full.head()"
   ]
  },
  {
   "cell_type": "code",
   "execution_count": 19,
   "metadata": {},
   "outputs": [
    {
     "data": {
      "text/plain": [
       "tensor(15.2641)"
      ]
     },
     "execution_count": 19,
     "metadata": {},
     "output_type": "execute_result"
    }
   ],
   "source": [
    "confidence.mean()"
   ]
  },
  {
   "cell_type": "markdown",
   "metadata": {},
   "source": [
    "# Modelo"
   ]
  },
  {
   "cell_type": "markdown",
   "metadata": {},
   "source": [
    "## Definir modelo"
   ]
  },
  {
   "cell_type": "code",
   "execution_count": 20,
   "metadata": {
    "ExecuteTime": {
     "end_time": "2019-12-18T17:12:14.760907Z",
     "start_time": "2019-12-18T17:12:14.702775Z"
    }
   },
   "outputs": [],
   "source": [
    "def trunc_normal_(x, mean=0, std=1.):\n",
    "    \"Truncated normal initialization.\"\n",
    "    # From https://discuss.pytorch.org/t/implementing-truncated-normal-initializer/4778/12\n",
    "    return x.normal_().fmod_(2).mul_(std).add_(mean)\n",
    "\n",
    "\n",
    "def embedding(ni:int,nf:int):\n",
    "    \"Create an embedding layer.\"\n",
    "    emb = nn.Embedding(ni, nf)\n",
    "    # See https://arxiv.org/abs/1711.09160\n",
    "    with torch.no_grad(): trunc_normal_(emb.weight, std=0.01)\n",
    "    return emb\n",
    "\n",
    "\n",
    "class EmbeddingDotBias(nn.Module):\n",
    "    \"Base dot model for collaborative filtering.\"\n",
    "    def __init__(self, n_users_factors, \n",
    "                 n_users, n_items, index_item_matrix, embedding_matrix, y_range=None):\n",
    "        super().__init__()\n",
    "        self.y_range = y_range\n",
    "        #generar embedings de usuarios y bias de usuarios e items\n",
    "        (self.u_weight, self.u_bias, self.i_bias) = [embedding(*o) for o in [\n",
    "            (n_users, n_users_factors), (n_users, 1), (n_items, 1)]]\n",
    "        \n",
    "        self.index_item_matrix = index_item_matrix # N_glosas x Largo_maximo_glosas \n",
    "        self.embedding_matrix = embedding_matrix # (N_palabras + 1) x N_latentes\n",
    "        self.bn1 = nn.BatchNorm1d(num_features=39) #Cuántos features???\n",
    "        self.relu = nn.ReLU()\n",
    "        self.dropout = nn.Dropout(0.5)\n",
    "        \n",
    "        self.largo_max_glosas = index_item_matrix.shape[1]\n",
    "        self.n_latent = embedding_matrix.shape[1]\n",
    "        #https://pytorch.org/docs/stable/nn.html#torch.nn.Conv1d\n",
    "        kernel_size = self.largo_max_glosas * self.n_latent - n_users_factors + 1\n",
    "        self.conv = torch.nn.Conv1d(1, 1, kernel_size=kernel_size)\n",
    "\n",
    "    #BatchNorm -> ReLu -> Dropout\n",
    "    def forward(self, users, items):\n",
    "\n",
    "        idx_items = self.index_item_matrix[items] #indices de palabras en las glosas Nitems x Largo_max\n",
    "        i_weights_full = self.embedding_matrix[idx_items] #latentes de glosas\n",
    "        i_weights_full = self.bn1(i_weights_full)\n",
    "        i_weights_full = self.relu(i_weights_full)\n",
    "        dropout_weights = self.dropout(i_weights_full)\n",
    "        \n",
    "        i_weight = self.conv(dropout_weights.reshape((len(items), 1, -1))).squeeze()\n",
    "        #print(i_weight)\n",
    "        #Bnorm, Relu, Dropout después de la convolución?\n",
    "        dot = self.u_weight(users) * i_weight\n",
    "        res = dot.sum(1) + self.u_bias(users).squeeze() + self.i_bias(items).squeeze()\n",
    "        if self.y_range is None: return res\n",
    "        #if res > 1e6 or res < -1e6:\n",
    "        #    print(\"res: \", res)\n",
    "        return torch.sigmoid(res) * (self.y_range[1]-self.y_range[0]) + self.y_range[0]\n",
    "    \n",
    "    "
   ]
  },
  {
   "cell_type": "markdown",
   "metadata": {},
   "source": [
    "## Initialize model"
   ]
  },
  {
   "cell_type": "code",
   "execution_count": 21,
   "metadata": {
    "ExecuteTime": {
     "end_time": "2019-12-18T17:12:14.895730Z",
     "start_time": "2019-12-18T17:12:14.764627Z"
    }
   },
   "outputs": [],
   "source": [
    "n_users_factors = 30\n",
    "#TODO: pensar en un mejor starting point\n",
    "model = EmbeddingDotBias(n_users_factors, n_users, n_items, \n",
    "                         index_item_matrix, embedding_matrix, \n",
    "                         y_range=[-.01, 1.01])\n",
    "\n"
   ]
  },
  {
   "cell_type": "code",
   "execution_count": 22,
   "metadata": {
    "ExecuteTime": {
     "end_time": "2019-12-18T17:12:14.941974Z",
     "start_time": "2019-12-18T17:12:14.898872Z"
    }
   },
   "outputs": [
    {
     "data": {
      "text/plain": [
       "EmbeddingDotBias(\n",
       "  (u_weight): Embedding(69878, 30)\n",
       "  (u_bias): Embedding(69878, 1)\n",
       "  (i_bias): Embedding(10681, 1)\n",
       "  (bn1): BatchNorm1d(39, eps=1e-05, momentum=0.1, affine=True, track_running_stats=True)\n",
       "  (relu): ReLU()\n",
       "  (dropout): Dropout(p=0.5)\n",
       "  (conv): Conv1d(1, 1, kernel_size=(11671,), stride=(1,))\n",
       ")"
      ]
     },
     "execution_count": 22,
     "metadata": {},
     "output_type": "execute_result"
    }
   ],
   "source": [
    "model\n"
   ]
  },
  {
   "cell_type": "code",
   "execution_count": 191,
   "metadata": {
    "ExecuteTime": {
     "end_time": "2019-12-18T17:12:14.980038Z",
     "start_time": "2019-12-18T17:12:14.944377Z"
    }
   },
   "outputs": [
    {
     "data": {
      "text/plain": [
       "[('u_weight.weight', torch.Size([69878, 30])),\n",
       " ('u_bias.weight', torch.Size([69878, 1])),\n",
       " ('i_bias.weight', torch.Size([10681, 1])),\n",
       " ('bn1.weight', torch.Size([39])),\n",
       " ('bn1.bias', torch.Size([39])),\n",
       " ('conv.weight', torch.Size([1, 1, 11671])),\n",
       " ('conv.bias', torch.Size([1]))]"
      ]
     },
     "execution_count": 191,
     "metadata": {},
     "output_type": "execute_result"
    }
   ],
   "source": [
    "[(x[0], x[1].shape) for x in model.named_parameters()]\n",
    "\n"
   ]
  },
  {
   "cell_type": "markdown",
   "metadata": {},
   "source": [
    "## Train\n",
    "\n",
    "Use all positive interactions, but get a sample of negative relationships"
   ]
  },
  {
   "cell_type": "code",
   "execution_count": 37,
   "metadata": {},
   "outputs": [],
   "source": [
    "sgd_con_step = False\n",
    "optimizer_sin_scheduler = True\n",
    "cosine_annealing_scheduler = False\n",
    "\n",
    "if sgd_con_step:\n",
    "    learning_rate = 1e-3\n",
    "    optimizer = torch.optim.SGD(model.parameters(), lr=learning_rate, momentum=0.9, nesterov=True)\n",
    "    scheduler = torch.optim.lr_scheduler.StepLR(optimizer, step_size=1, gamma=0.1)\n",
    "elif optimizer_sin_scheduler:\n",
    "    learning_rate = 5e-4\n",
    "    optimizer = torch.optim.Adam(model.parameters(), \n",
    "                            lr=learning_rate, weight_decay=1e-5)\n",
    "elif cosine_annealing_scheduler: \n",
    "    starting_learning_rate = 1e-3\n",
    "    tmax = 100 #max number of epochs?\n",
    "    optimizer = torch.optim.Adam(model.parameters(), \n",
    "                                lr=starting_learning_rate)\n",
    "\n",
    "    scheduler = torch.optim.lr_scheduler.CosineAnnealingLR(optimizer, tmax)"
   ]
  },
  {
   "cell_type": "code",
   "execution_count": 24,
   "metadata": {
    "ExecuteTime": {
     "end_time": "2019-12-18T17:38:13.887235Z",
     "start_time": "2019-12-18T17:38:09.384602Z"
    }
   },
   "outputs": [],
   "source": [
    "bs = 10\n",
    "alpha = 1.0\n",
    "\n",
    "idx_batchs = np.arange(0, len(ratings_full), bs)\n",
    "np.random.shuffle(idx_batchs)\n",
    "\n",
    "#TODO: learning rate finder de FastAI\n"
   ]
  },
  {
   "cell_type": "code",
   "execution_count": 25,
   "metadata": {},
   "outputs": [
    {
     "data": {
      "text/plain": [
       "1.0"
      ]
     },
     "execution_count": 25,
     "metadata": {},
     "output_type": "execute_result"
    }
   ],
   "source": [
    "alpha\n",
    "\n"
   ]
  },
  {
   "cell_type": "code",
   "execution_count": 27,
   "metadata": {},
   "outputs": [],
   "source": [
    "import tqdm"
   ]
  },
  {
   "cell_type": "code",
   "execution_count": 38,
   "metadata": {
    "ExecuteTime": {
     "end_time": "2019-12-18T17:42:10.961539Z",
     "start_time": "2019-12-18T17:38:20.320119Z"
    }
   },
   "outputs": [
    {
     "data": {
      "application/vnd.jupyter.widget-view+json": {
       "model_id": "9e41777b3166428dbae75399cbbd599b",
       "version_major": 2,
       "version_minor": 0
      },
      "text/plain": [
       "HBox(children=(IntProgress(value=0, max=50000), HTML(value='')))"
      ]
     },
     "metadata": {},
     "output_type": "display_data"
    },
    {
     "name": "stdout",
     "output_type": "stream",
     "text": [
      "0.42002836\n",
      "0.6413135\n",
      "6.6277723\n",
      "3.912541\n",
      "4.165587\n",
      "4.20583\n",
      "0.40433624\n",
      "0.24816139\n",
      "4.457549\n",
      "4.5209947\n",
      "1.132113\n",
      "6.625971\n",
      "5.6478667\n",
      "1.0464889\n",
      "3.5594754\n",
      "6.9887958\n",
      "0.6081322\n",
      "4.9494863\n",
      "6.678513\n",
      "1.0489292\n",
      "3.3717105\n",
      "5.1112094\n",
      "5.453713\n",
      "3.322439\n",
      "1.2145431\n",
      "0.25288844\n",
      "0.735197\n",
      "9.0079775\n",
      "1.3627539\n",
      "3.4545677\n",
      "0.6322451\n",
      "4.5961866\n",
      "7.1111064\n",
      "12.036958\n",
      "1.3978386\n",
      "1.6099837\n",
      "7.8737535\n",
      "19.292316\n",
      "1.8877922\n",
      "3.5045044\n",
      "3.5006843\n",
      "1.544167\n",
      "5.557699\n",
      "6.2342186\n",
      "6.428044\n",
      "1.4241465\n",
      "3.173884\n",
      "2.1969786\n",
      "8.758139\n",
      "3.3717005\n",
      "3.714845\n",
      "5.7975464\n",
      "0.2018114\n",
      "2.586174\n",
      "5.8025446\n",
      "1.6849197\n",
      "10.747743\n",
      "1.1560111\n",
      "7.7709093\n",
      "3.8924952\n",
      "1.3866266\n",
      "3.1440237\n",
      "9.441834\n",
      "15.010664\n",
      "4.1870904\n",
      "8.784337\n",
      "1.693409\n",
      "0.67018807\n",
      "3.661379\n",
      "1.9648093\n",
      "2.5823905\n",
      "9.462179\n",
      "0.7550525\n",
      "0.9098175\n",
      "1.0100431\n",
      "4.796933\n",
      "2.6363382\n",
      "1.3890979\n",
      "5.6738014\n",
      "5.665616\n",
      "0.65143347\n",
      "12.77447\n",
      "2.5093403\n",
      "7.609652\n",
      "1.9856564\n",
      "3.4918494\n",
      "10.575802\n",
      "5.400133\n",
      "1.5138043\n",
      "0.67247653\n",
      "1.4484822\n",
      "1.1883765\n",
      "3.4276166\n",
      "0.6534547\n",
      "1.7202812\n",
      "7.3899107\n",
      "2.9121757\n",
      "10.179272\n",
      "4.263484\n",
      "7.112146\n",
      "\n"
     ]
    }
   ],
   "source": [
    "losses = []\n",
    "\n",
    "n_batches = 50_000#10_000\n",
    "n_batch = 0\n",
    "for idxs in tqdm.notebook.tqdm(idx_batchs[:n_batches]):\n",
    "    \n",
    "    batch_inds = slice(idxs, idxs+bs)\n",
    "    users = user_idx[batch_inds]\n",
    "    items = movie_idx[batch_inds]\n",
    "    p = preference[batch_inds]\n",
    "    c = confidence[batch_inds]\n",
    "\n",
    "    prediction = model(users, items)\n",
    "    loss = ((1 + alpha*c)*(prediction - p)**2).mean()\n",
    "    if loss < 0:\n",
    "        print(\"=====================================\")\n",
    "        print(\"loss negativo\")\n",
    "        print(\"prediction: \", prediction)\n",
    "        print(\"p: \", p)\n",
    "        print(\"alpha y c:\", alpha, c)\n",
    "        \n",
    "    if loss > 1e6:\n",
    "        print(\"=====================================\")\n",
    "        print(\"loss mayor a un millón\")\n",
    "        print(\"prediction: \", prediction)\n",
    "        print(\"p: \", p)\n",
    "        print(\"alpha y c:\", alpha, c)\n",
    "    \n",
    "    loss.backward()\n",
    "    optimizer.step()\n",
    "    optimizer.zero_grad()\n",
    "    \n",
    "    losses += [loss]\n",
    "    if n_batch % 500 == 0:\n",
    "        print(np.array([x.detach().numpy() for x in losses])[-50::].mean())\n",
    "    \n",
    "    n_batch += 1\n",
    "    #scheduler.step() cada 100 batches\n",
    "    if n_batch % 100 == 0:\n",
    "        if sgd_con_step or cosine_annealing_scheduler:\n",
    "            scheduler.step()\n",
    "    \n",
    "    "
   ]
  },
  {
   "cell_type": "code",
   "execution_count": 39,
   "metadata": {},
   "outputs": [
    {
     "data": {
      "text/plain": [
       "tensor(0.1537, grad_fn=<MeanBackward0>)"
      ]
     },
     "execution_count": 39,
     "metadata": {},
     "output_type": "execute_result"
    }
   ],
   "source": [
    "loss\n"
   ]
  },
  {
   "cell_type": "code",
   "execution_count": 40,
   "metadata": {},
   "outputs": [
    {
     "data": {
      "text/plain": [
       "tensor([0.4133, 0.4098, 0.4021, 0.3986, 0.3921, 0.3825, 0.3768, 0.3864, 0.3808,\n",
       "        0.3758], grad_fn=<AddBackward0>)"
      ]
     },
     "execution_count": 40,
     "metadata": {},
     "output_type": "execute_result"
    }
   ],
   "source": [
    "prediction"
   ]
  },
  {
   "cell_type": "code",
   "execution_count": 205,
   "metadata": {},
   "outputs": [
    {
     "data": {
      "text/plain": [
       "tensor([0., 0., 0., 0., 0., 0., 0., 0., 0., 0.])"
      ]
     },
     "execution_count": 205,
     "metadata": {},
     "output_type": "execute_result"
    }
   ],
   "source": [
    "p"
   ]
  },
  {
   "cell_type": "code",
   "execution_count": 106,
   "metadata": {},
   "outputs": [
    {
     "data": {
      "text/plain": [
       "[<matplotlib.lines.Line2D at 0x13c017588>]"
      ]
     },
     "execution_count": 106,
     "metadata": {},
     "output_type": "execute_result"
    },
    {
     "data": {
      "image/png": "[encoded data removed]",
      "text/plain": [
       "<Figure size 432x288 with 1 Axes>"
      ]
     },
     "metadata": {
      "needs_background": "light"
     },
     "output_type": "display_data"
    }
   ],
   "source": [
    "\n",
    "\n"
   ]
  },
  {
   "cell_type": "code",
   "execution_count": null,
   "metadata": {},
   "outputs": [],
   "source": []
  },
  {
   "cell_type": "code",
   "execution_count": 41,
   "metadata": {
    "ExecuteTime": {
     "end_time": "2019-12-18T17:42:13.717932Z",
     "start_time": "2019-12-18T17:42:13.505886Z"
    }
   },
   "outputs": [
    {
     "data": {
      "text/plain": [
       "[<matplotlib.lines.Line2D at 0x14955b518>]"
      ]
     },
     "execution_count": 41,
     "metadata": {},
     "output_type": "execute_result"
    },
    {
     "data": {
      "image/png": "[encoded data removed]",
      "text/plain": [
       "<Figure size 432x288 with 1 Axes>"
      ]
     },
     "metadata": {
      "needs_background": "light"
     },
     "output_type": "display_data"
    }
   ],
   "source": [
    "losses = np.array([x.detach().numpy() for x in losses])\n",
    "plt.plot(losses)\n",
    "\n"
   ]
  },
  {
   "cell_type": "code",
   "execution_count": 32,
   "metadata": {},
   "outputs": [
    {
     "data": {
      "text/plain": [
       "[<matplotlib.lines.Line2D at 0x132cdd208>]"
      ]
     },
     "execution_count": 32,
     "metadata": {},
     "output_type": "execute_result"
    },
    {
     "data": {
      "image/png": "[encoded data removed]",
      "text/plain": [
       "<Figure size 432x288 with 1 Axes>"
      ]
     },
     "metadata": {
      "needs_background": "light"
     },
     "output_type": "display_data"
    }
   ],
   "source": [
    "plt.plot(losses[losses > 0])\n",
    "\n"
   ]
  },
  {
   "cell_type": "code",
   "execution_count": 42,
   "metadata": {},
   "outputs": [
    {
     "data": {
      "text/plain": [
       "[<matplotlib.lines.Line2D at 0x1493552e8>]"
      ]
     },
     "execution_count": 42,
     "metadata": {},
     "output_type": "execute_result"
    },
    {
     "data": {
      "image/png": "[encoded data removed]",
      "text/plain": [
       "<Figure size 432x288 with 1 Axes>"
      ]
     },
     "metadata": {
      "needs_background": "light"
     },
     "output_type": "display_data"
    }
   ],
   "source": [
    "plt.plot(pd.Series(losses[losses >= 0]).rolling(window=100).mean())"
   ]
  },
  {
   "cell_type": "code",
   "execution_count": 43,
   "metadata": {},
   "outputs": [
    {
     "data": {
      "text/plain": [
       "[<matplotlib.lines.Line2D at 0x149118518>]"
      ]
     },
     "execution_count": 43,
     "metadata": {},
     "output_type": "execute_result"
    },
    {
     "data": {
      "image/png": "[encoded data removed]",
      "text/plain": [
       "<Figure size 432x288 with 1 Axes>"
      ]
     },
     "metadata": {
      "needs_background": "light"
     },
     "output_type": "display_data"
    }
   ],
   "source": [
    "plt.plot(pd.Series(losses[losses >= 0]).rolling(window=800).mean())"
   ]
  },
  {
   "cell_type": "code",
   "execution_count": 44,
   "metadata": {},
   "outputs": [
    {
     "data": {
      "text/plain": [
       "[<matplotlib.lines.Line2D at 0x1321acb38>]"
      ]
     },
     "execution_count": 44,
     "metadata": {},
     "output_type": "execute_result"
    },
    {
     "data": {
      "image/png": "[encoded data removed]",
      "text/plain": [
       "<Figure size 432x288 with 1 Axes>"
      ]
     },
     "metadata": {
      "needs_background": "light"
     },
     "output_type": "display_data"
    }
   ],
   "source": [
    "plt.plot(pd.Series(losses[losses >= 0]).rolling(window=2000).mean())"
   ]
  },
  {
   "cell_type": "code",
   "execution_count": null,
   "metadata": {},
   "outputs": [],
   "source": []
  }
 ],
 "metadata": {
  "kernelspec": {
   "display_name": "Python [conda env:spike_basicoV5]",
   "language": "python",
   "name": "conda-env-spike_basicoV5-py"
  },
  "language_info": {
   "codemirror_mode": {
    "name": "ipython",
    "version": 3
   },
   "file_extension": ".py",
   "mimetype": "text/x-python",
   "name": "python",
   "nbconvert_exporter": "python",
   "pygments_lexer": "ipython3",
   "version": "3.6.7"
  },
  "toc": {
   "base_numbering": 1,
   "nav_menu": {},
   "number_sections": true,
   "sideBar": true,
   "skip_h1_title": false,
   "title_cell": "Table of Contents",
   "title_sidebar": "Contents",
   "toc_cell": false,
   "toc_position": {
    "height": "calc(100% - 180px)",
    "left": "10px",
    "top": "150px",
    "width": "305.455px"
   },
   "toc_section_display": true,
   "toc_window_display": true
  }
 },
 "nbformat": 4,
 "nbformat_minor": 2
}
